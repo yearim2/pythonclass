{
  "nbformat": 4,
  "nbformat_minor": 0,
  "metadata": {
    "colab": {
      "provenance": [],
      "authorship_tag": "ABX9TyP4V2nKl16w3bCumsR0L0MK",
      "include_colab_link": true
    },
    "kernelspec": {
      "name": "python3",
      "display_name": "Python 3"
    },
    "language_info": {
      "name": "python"
    }
  },
  "cells": [
    {
      "cell_type": "markdown",
      "metadata": {
        "id": "view-in-github",
        "colab_type": "text"
      },
      "source": [
        "<a href=\"https://colab.research.google.com/github/yearim2/pythonclass/blob/main/Homework13.ipynb\" target=\"_parent\"><img src=\"https://colab.research.google.com/assets/colab-badge.svg\" alt=\"Open In Colab\"/></a>"
      ]
    },
    {
      "cell_type": "code",
      "execution_count": 3,
      "metadata": {
        "colab": {
          "base_uri": "https://localhost:8080/"
        },
        "id": "Py1U2buOT0aT",
        "outputId": "bd50286e-485b-4139-ffb7-139b3bda06a2"
      },
      "outputs": [
        {
          "output_type": "stream",
          "name": "stdout",
          "text": [
            "안녕\n",
            "Hi\n"
          ]
        }
      ],
      "source": [
        "# 211\n",
        "def 함수(문자열) :\n",
        "      print(문자열)\n",
        "\n",
        "함수(\"안녕\")\n",
        "함수(\"Hi\")"
      ]
    },
    {
      "cell_type": "code",
      "source": [
        "# 212\n",
        "def 함수(a, b) :\n",
        "    print(a + b)\n",
        "\n",
        "함수(3, 4)\n",
        "함수(7, 8)"
      ],
      "metadata": {
        "colab": {
          "base_uri": "https://localhost:8080/"
        },
        "id": "ab6pZyenUgH7",
        "outputId": "bc45917c-4e98-445a-dbc7-3eaa6e6d0974"
      },
      "execution_count": 4,
      "outputs": [
        {
          "output_type": "stream",
          "name": "stdout",
          "text": [
            "7\n",
            "15\n"
          ]
        }
      ]
    },
    {
      "cell_type": "code",
      "source": [
        "# 213\n",
        "def 함수(문자열) :\n",
        "    print(문자열)\n",
        "   함수()\n",
        "TypeError: 함수() missing 1 required positional argument: '문자열' \n",
        "\n",
        "# 함수() <-- 괄호안에 문자열 입력 필요"
      ],
      "metadata": {
        "colab": {
          "base_uri": "https://localhost:8080/",
          "height": 137
        },
        "id": "qeW5lGlAUgQz",
        "outputId": "2cc76082-b96d-442d-a3c2-c8996d0e38f4"
      },
      "execution_count": 6,
      "outputs": [
        {
          "output_type": "error",
          "ename": "IndentationError",
          "evalue": "ignored",
          "traceback": [
            "\u001b[0;36m  File \u001b[0;32m\"<tokenize>\"\u001b[0;36m, line \u001b[0;32m4\u001b[0m\n\u001b[0;31m    함수()\u001b[0m\n\u001b[0m    ^\u001b[0m\n\u001b[0;31mIndentationError\u001b[0m\u001b[0;31m:\u001b[0m unindent does not match any outer indentation level\n"
          ]
        }
      ]
    },
    {
      "cell_type": "code",
      "source": [
        "# 214\n",
        "def 함수(a, b) :\n",
        "    print(a + b)\n",
        "\n",
        "함수(\"안녕\", 3)\n",
        "TypeError: must be str, not int"
      ],
      "metadata": {
        "colab": {
          "base_uri": "https://localhost:8080/",
          "height": 137
        },
        "id": "-UNV_y1DUgTK",
        "outputId": "03f01e6e-e00b-4b31-dbf5-92b04daf2371"
      },
      "execution_count": 41,
      "outputs": [
        {
          "output_type": "error",
          "ename": "SyntaxError",
          "evalue": "ignored",
          "traceback": [
            "\u001b[0;36m  File \u001b[0;32m\"<ipython-input-41-f5c06f8aef00>\"\u001b[0;36m, line \u001b[0;32m6\u001b[0m\n\u001b[0;31m    TypeError: must be str, not int\u001b[0m\n\u001b[0m                     ^\u001b[0m\n\u001b[0;31mSyntaxError\u001b[0m\u001b[0;31m:\u001b[0m invalid syntax\n"
          ]
        }
      ]
    },
    {
      "cell_type": "code",
      "source": [
        "# 215\n",
        "def print_with_smile (string) :\n",
        "    print(string + \":D\")"
      ],
      "metadata": {
        "id": "vCmKIFi6UgVW"
      },
      "execution_count": 10,
      "outputs": []
    },
    {
      "cell_type": "code",
      "source": [
        "# 216\n",
        "print_with_smile(\"안녕하세요\")"
      ],
      "metadata": {
        "colab": {
          "base_uri": "https://localhost:8080/"
        },
        "id": "wGIgjMGDUgYu",
        "outputId": "dfa19d2c-9dce-4519-cad6-8dc2e12ecfa0"
      },
      "execution_count": 11,
      "outputs": [
        {
          "output_type": "stream",
          "name": "stdout",
          "text": [
            "안녕하세요:D\n"
          ]
        }
      ]
    },
    {
      "cell_type": "code",
      "source": [
        "# 217\n",
        "def print_upper_price(a) :\n",
        "  upper_price = int(a * 1.3)\n",
        "  return upper_price\n",
        "#  print(upper_price)\n",
        "\n",
        "print_upper_price(100)"
      ],
      "metadata": {
        "colab": {
          "base_uri": "https://localhost:8080/"
        },
        "id": "1VDbLP-SUgb-",
        "outputId": "e34ba7fc-ff4a-4239-cfba-b5c8d87b5d92"
      },
      "execution_count": 14,
      "outputs": [
        {
          "output_type": "execute_result",
          "data": {
            "text/plain": [
              "130"
            ]
          },
          "metadata": {},
          "execution_count": 14
        }
      ]
    },
    {
      "cell_type": "code",
      "source": [
        "# 218\n",
        "def print_sum (a,b) :\n",
        "  return a + b\n",
        "\n",
        "print_sum (3, 4)"
      ],
      "metadata": {
        "colab": {
          "base_uri": "https://localhost:8080/"
        },
        "id": "AQ10BLGDUgeB",
        "outputId": "f5f7c7b0-fb9c-4eef-d91d-db88e985584a"
      },
      "execution_count": 12,
      "outputs": [
        {
          "output_type": "execute_result",
          "data": {
            "text/plain": [
              "7"
            ]
          },
          "metadata": {},
          "execution_count": 12
        }
      ]
    },
    {
      "cell_type": "code",
      "source": [
        "# 219\n",
        "def print_arithmetic_operation (a, b) :\n",
        "\n",
        "  print(a, \"+\", b, \"=\", (a + b))\n",
        "  print(a, \"-\", b, \"=\", (a - b))\n",
        "  print(a, \"*\", b, \"=\", (a * b))\n",
        "  print(a, \"/\", b, \"=\", (a / b))\n",
        "\n",
        "print_arithmetic_operation (3,4)"
      ],
      "metadata": {
        "colab": {
          "base_uri": "https://localhost:8080/"
        },
        "id": "03xUp7waUghX",
        "outputId": "b4caaf6c-f55d-42a1-a391-5b124b6b4576"
      },
      "execution_count": 9,
      "outputs": [
        {
          "output_type": "stream",
          "name": "stdout",
          "text": [
            "3 + 4 = 7\n",
            "3 - 4 = -1\n",
            "3 * 4 = 12\n",
            "3 / 4 = 0.75\n"
          ]
        }
      ]
    },
    {
      "cell_type": "code",
      "source": [
        "# 220\n",
        "def print_max(a, b, c) :\n",
        "  if a > b and a > c :\n",
        "    print(\"max = \", a)\n",
        "\n",
        "  elif b > c and b > a :\n",
        "    print(\"max = \", b)\n",
        "\n",
        "  else : \n",
        "    print(\"max = \", c)\n",
        "\n",
        "print_max (1, 2, 3)"
      ],
      "metadata": {
        "colab": {
          "base_uri": "https://localhost:8080/"
        },
        "id": "H3GKrmbhUgj9",
        "outputId": "4ec598e5-dc64-4857-b464-c086aa8a0c33"
      },
      "execution_count": 8,
      "outputs": [
        {
          "output_type": "stream",
          "name": "stdout",
          "text": [
            "max =  3\n"
          ]
        }
      ]
    },
    {
      "cell_type": "code",
      "source": [
        "# 221\n",
        "def print_reverse(str) :\n",
        "  print(str[::-1])\n",
        "\n",
        "print_reverse(\"python\")"
      ],
      "metadata": {
        "colab": {
          "base_uri": "https://localhost:8080/"
        },
        "id": "z2IV4Ik6Ugnt",
        "outputId": "5359b4ec-8cd9-4517-aec1-c39f7aa868ba"
      },
      "execution_count": 23,
      "outputs": [
        {
          "output_type": "stream",
          "name": "stdout",
          "text": [
            "nohtyp\n"
          ]
        }
      ]
    },
    {
      "cell_type": "code",
      "source": [
        "# 222\n",
        "def print_score(list) :\n",
        "  sum = 0\n",
        "  average = 0\n",
        "  for i in list :\n",
        "    sum += i\n",
        "  average = sum / len(list)\n",
        "  return average\n",
        "\n",
        "print_score([1,2,3])"
      ],
      "metadata": {
        "colab": {
          "base_uri": "https://localhost:8080/"
        },
        "id": "PAdeTIg-UgqK",
        "outputId": "ffaa800a-3979-43d7-d7cd-fb51c2cacd11"
      },
      "execution_count": 26,
      "outputs": [
        {
          "output_type": "execute_result",
          "data": {
            "text/plain": [
              "2.0"
            ]
          },
          "metadata": {},
          "execution_count": 26
        }
      ]
    },
    {
      "cell_type": "code",
      "source": [
        "# 223\n",
        "def print_even(list) :\n",
        "  sum = 0\n",
        "  average = 0\n",
        "  for i in list :\n",
        "    if i %2 != 0:\n",
        "      continue\n",
        "    print(i)\n",
        "\n",
        "\n",
        "print_even([1, 3, 2, 10, 12, 11, 15])"
      ],
      "metadata": {
        "colab": {
          "base_uri": "https://localhost:8080/"
        },
        "id": "SJtvrxO6UgsX",
        "outputId": "7fccdd74-3189-425d-9d7b-b0ce6af7cfda"
      },
      "execution_count": 29,
      "outputs": [
        {
          "output_type": "stream",
          "name": "stdout",
          "text": [
            "2\n",
            "10\n",
            "12\n"
          ]
        }
      ]
    },
    {
      "cell_type": "code",
      "source": [
        "# 224\n",
        "def print_keys(dict) :\n",
        " \n",
        "  for i in range(len(dict)) :\n",
        "    print(list(dict.keys())[i])\n",
        "\n",
        "print_keys({\"이름\":\"김말똥\",\"나이\":30,\"성별\":0})"
      ],
      "metadata": {
        "colab": {
          "base_uri": "https://localhost:8080/"
        },
        "id": "LGgJhYRC6Fso",
        "outputId": "15d425bb-b1eb-4935-9231-443f7e8ca4e1"
      },
      "execution_count": 30,
      "outputs": [
        {
          "output_type": "stream",
          "name": "stdout",
          "text": [
            "이름\n",
            "나이\n",
            "성별\n"
          ]
        }
      ]
    },
    {
      "cell_type": "code",
      "source": [
        "# 225\n",
        "my_dict = {\"10/26\" : [100, 130, 100, 100],\n",
        "           \"10/27\" : [10, 12, 10, 11]}\n",
        "\n",
        "def print_value_by_key (dict, key) :\n",
        "  print(dict.get(key))\n",
        "\n",
        "print_value_by_key (my_dict,\"10/26\")"
      ],
      "metadata": {
        "colab": {
          "base_uri": "https://localhost:8080/"
        },
        "id": "CNPCrQ3A6F9d",
        "outputId": "a310ba7d-7f18-48bd-c4b1-238728220f4e"
      },
      "execution_count": 32,
      "outputs": [
        {
          "output_type": "stream",
          "name": "stdout",
          "text": [
            "[100, 130, 100, 100]\n"
          ]
        }
      ]
    },
    {
      "cell_type": "code",
      "source": [
        "# 226\n",
        "a = \"아이엠어보이유알어걸\"\n",
        "# print(a[0:5])\n",
        "# print(a[5:10])\n",
        "\n",
        "def print_5xn (string) :\n",
        "  for i in range(0,len(string),5) :\n",
        "    if i < len(string) :\n",
        "      print(string[i:i+5])\n",
        "\n",
        "print_5xn (a)   \n"
      ],
      "metadata": {
        "colab": {
          "base_uri": "https://localhost:8080/"
        },
        "id": "AmTKSaMO6GAT",
        "outputId": "c62e648a-0d20-46b3-e14c-96cba89f4e6c"
      },
      "execution_count": 34,
      "outputs": [
        {
          "output_type": "stream",
          "name": "stdout",
          "text": [
            "아이엠어보\n",
            "이유알어걸\n"
          ]
        }
      ]
    },
    {
      "cell_type": "code",
      "source": [
        "# 227\n",
        "a = \"아이엠어보이유알어걸\"\n",
        "\n",
        "def print_5xn (string, num) :\n",
        "  for i in range(0,len(string),num) :\n",
        "    if i < len(string) :\n",
        "      print(string[i:i+ num])\n",
        "\n",
        "print_5xn (a, 3)"
      ],
      "metadata": {
        "colab": {
          "base_uri": "https://localhost:8080/"
        },
        "id": "V274d3Dx6GFC",
        "outputId": "0c244e43-e10b-4e27-e600-dab30737448e"
      },
      "execution_count": 35,
      "outputs": [
        {
          "output_type": "stream",
          "name": "stdout",
          "text": [
            "아이엠\n",
            "어보이\n",
            "유알어\n",
            "걸\n"
          ]
        }
      ]
    },
    {
      "cell_type": "code",
      "source": [
        "# 228\n",
        "def calc_monthly_salary (income) :\n",
        "  print(int(income/12))\n",
        "\n",
        "calc_monthly_salary (12000000)"
      ],
      "metadata": {
        "colab": {
          "base_uri": "https://localhost:8080/"
        },
        "id": "eJZTTxpo6GMY",
        "outputId": "0b128037-c946-42af-b27d-c7daedfccf8b"
      },
      "execution_count": 38,
      "outputs": [
        {
          "output_type": "stream",
          "name": "stdout",
          "text": [
            "1000000\n"
          ]
        }
      ]
    },
    {
      "cell_type": "code",
      "source": [
        "# 229\n",
        "def my_print (a, b) :\n",
        "    print(\"왼쪽:\", a)\n",
        "    print(\"오른쪽:\", b)\n",
        "\n",
        "my_print(a=100, b=200) "
      ],
      "metadata": {
        "colab": {
          "base_uri": "https://localhost:8080/"
        },
        "id": "HmoaPjHs6GSG",
        "outputId": "50a38632-e055-4660-8d21-aa790172cfeb"
      },
      "execution_count": 39,
      "outputs": [
        {
          "output_type": "stream",
          "name": "stdout",
          "text": [
            "왼쪽: 100\n",
            "오른쪽: 200\n"
          ]
        }
      ]
    },
    {
      "cell_type": "code",
      "source": [
        "# 230\n",
        "def my_print (a, b) :\n",
        "    print(\"왼쪽:\", a)\n",
        "    print(\"오른쪽:\", b)\n",
        "\n",
        "my_print(b=100, a=200)"
      ],
      "metadata": {
        "colab": {
          "base_uri": "https://localhost:8080/"
        },
        "id": "chIht_3B6K9B",
        "outputId": "d5815ea8-e968-4cd1-b172-ec873e5c1c34"
      },
      "execution_count": 40,
      "outputs": [
        {
          "output_type": "stream",
          "name": "stdout",
          "text": [
            "왼쪽: 200\n",
            "오른쪽: 100\n"
          ]
        }
      ]
    }
  ]
}