{
  "nbformat": 4,
  "nbformat_minor": 0,
  "metadata": {
    "colab": {
      "provenance": [],
      "authorship_tag": "ABX9TyOVeS2XfCmzbh7NmNttJf3v",
      "include_colab_link": true
    },
    "kernelspec": {
      "name": "python3",
      "display_name": "Python 3"
    },
    "language_info": {
      "name": "python"
    }
  },
  "cells": [
    {
      "cell_type": "markdown",
      "metadata": {
        "id": "view-in-github",
        "colab_type": "text"
      },
      "source": [
        "<a href=\"https://colab.research.google.com/github/yearim2/pythonclass/blob/main/Homework21.ipynb\" target=\"_parent\"><img src=\"https://colab.research.google.com/assets/colab-badge.svg\" alt=\"Open In Colab\"/></a>"
      ]
    },
    {
      "cell_type": "code",
      "execution_count": 1,
      "metadata": {
        "colab": {
          "base_uri": "https://localhost:8080/"
        },
        "id": "Sg3Dl6_vHCyt",
        "outputId": "80e98652-40d3-4907-8621-274926918cb5"
      },
      "outputs": [
        {
          "output_type": "stream",
          "name": "stdout",
          "text": [
            "53\n"
          ]
        }
      ],
      "source": [
        "# 052\n",
        "import random\n",
        "num=random.randint(1,100)\n",
        "print(num)"
      ]
    },
    {
      "cell_type": "code",
      "source": [
        "# 053\n",
        "import random\n",
        "fruit=random.choice(['apple','orange','grape','banana','strawberry'])\n",
        "print(fruit)"
      ],
      "metadata": {
        "colab": {
          "base_uri": "https://localhost:8080/"
        },
        "id": "4B6XywXNHKz8",
        "outputId": "b9498bb3-774b-4fc9-f188-de8a561e75f4"
      },
      "execution_count": 3,
      "outputs": [
        {
          "output_type": "stream",
          "name": "stdout",
          "text": [
            "strawberry\n"
          ]
        }
      ]
    },
    {
      "cell_type": "code",
      "source": [
        "# 054\n",
        "import random\n",
        "coin=random.choice([\"h\",\"t\"])\n",
        "guess=input(\"Enter (h)eads or (t)ails: \")\n",
        "if guess==coin:\n",
        "    print(\"You win\")\n",
        "else:\n",
        "    print(\"Bad luck\") \n",
        "if coin ==\"h\":\n",
        "    print(\"It was heads\")\n",
        "else:\n",
        "    print(\"It was tails\")"
      ],
      "metadata": {
        "colab": {
          "base_uri": "https://localhost:8080/"
        },
        "id": "uxV2sB3mHK6r",
        "outputId": "95a72d50-99e3-4bcf-f547-4453ae6a198f"
      },
      "execution_count": 5,
      "outputs": [
        {
          "output_type": "stream",
          "name": "stdout",
          "text": [
            "Enter (h)eads or (t)ails: c\n",
            "Bad luck\n",
            "It was heads\n"
          ]
        }
      ]
    },
    {
      "cell_type": "code",
      "source": [
        "# 055\n",
        "import random\n",
        "num=random.randint(1,5)\n",
        "guess=int(input(\"Enter a number: \"))\n",
        "if guess==num:\n",
        "     print(\"Well done\")\n",
        "elif guess>num:\n",
        "     print(\"Too high\")\n",
        "     guess=int(input(\"Guess again: \"))\n",
        "     if guess == num:\n",
        "         print(\"Correct\")\n",
        "     else:\n",
        "         print(\"You lose\")\n",
        "elif guess<num:\n",
        "      print(\"Too low\") \n",
        "      guess=int(input(\"Guess again: \"))\n",
        "      if guess==num:\n",
        "        print(\"Correct\")\n",
        "      else:\n",
        "        print(\"You lose\")  "
      ],
      "metadata": {
        "colab": {
          "base_uri": "https://localhost:8080/"
        },
        "id": "4hRCKJepHK-w",
        "outputId": "c67368fe-648e-4fb0-d8f7-63313acc7405"
      },
      "execution_count": 6,
      "outputs": [
        {
          "output_type": "stream",
          "name": "stdout",
          "text": [
            "Enter a number: 3\n",
            "Too low\n",
            "Guess again: 4\n",
            "Correct\n"
          ]
        }
      ]
    },
    {
      "cell_type": "code",
      "source": [
        "# 056\n",
        "import random\n",
        "num=random.randint(1,10)\n",
        "correct=False\n",
        "while correct==False:\n",
        "    guess=int(input(\"Enter a number: \"))\n",
        "    if guess==num:\n",
        "        correct=True"
      ],
      "metadata": {
        "colab": {
          "base_uri": "https://localhost:8080/"
        },
        "id": "LBbL3XHpHLBG",
        "outputId": "0b682298-e8fd-4875-e0d8-5dfc9e4c4f11"
      },
      "execution_count": 10,
      "outputs": [
        {
          "name": "stdout",
          "output_type": "stream",
          "text": [
            "Enter a number: 3\n"
          ]
        }
      ]
    },
    {
      "cell_type": "code",
      "source": [
        "# 057\n",
        "import random\n",
        "num=random.randint(1,10)\n",
        "correct=False\n",
        "while correct==False:\n",
        "    guess=int(input(\"Enter a number: \"))\n",
        "    if guess==num:\n",
        "        correct=True\n",
        "    elif guess>num:\n",
        "        print(\"Too high\") \n",
        "    else:\n",
        "        print(\"Too low\")     "
      ],
      "metadata": {
        "colab": {
          "base_uri": "https://localhost:8080/"
        },
        "id": "M7ZCr7QmHLEf",
        "outputId": "ad78ffb3-769b-4f8b-ced5-811333289ca7"
      },
      "execution_count": 22,
      "outputs": [
        {
          "name": "stdout",
          "output_type": "stream",
          "text": [
            "Enter a number: 5\n",
            "Too high\n",
            "Enter a number: 2\n",
            "Too high\n",
            "Enter a number: 1\n"
          ]
        }
      ]
    },
    {
      "cell_type": "code",
      "source": [
        "# 058\n",
        "import random\n",
        "score=0\n",
        "for i in range(1,6):\n",
        "    num1=random.randint(1,50)\n",
        "    num2=random.randint(1,50)\n",
        "    correct=num1+num2\n",
        "    print(num1,\"+\",num2)\n",
        "    answer=int(input(\"Your answer: \"))\n",
        "    print()\n",
        "    if answer==correct:\n",
        "       score=score+1\n",
        "print(\"You scored\",score,\"out of 5\")       "
      ],
      "metadata": {
        "colab": {
          "base_uri": "https://localhost:8080/"
        },
        "id": "0Setx5QtHP9U",
        "outputId": "3d7f27db-98a4-4a7c-c070-ad32fbba7a25"
      },
      "execution_count": 16,
      "outputs": [
        {
          "output_type": "stream",
          "name": "stdout",
          "text": [
            "13 + 17\n",
            "Your answer: 30\n",
            "\n",
            "40 + 26\n",
            "Your answer: 66\n",
            "\n",
            "10 + 4\n",
            "Your answer: 14\n",
            "\n",
            "2 + 13\n",
            "Your answer: 15\n",
            "\n",
            "40 + 8\n",
            "Your answer: 48\n",
            "\n",
            "You scored 5 out of 5\n"
          ]
        }
      ]
    },
    {
      "cell_type": "code",
      "source": [
        "# 059\n",
        "import random\n",
        "\n",
        "colour=random.choice([\"red\",\"blue\",\"green\",\"white\",\"pink\"])\n",
        "print(\"Select from red, blue, green, white or pink\")\n",
        "tryagain=True\n",
        "while tryagain==True:\n",
        "     theirchoice=input(\"Enter a colour: \")\n",
        "     theirchoice=theirchoice.lower()\n",
        "     if colour==theirchoice:\n",
        "         print(\"Well done\")\n",
        "         tryagain=False\n",
        "     else:\n",
        "       if colour==\"red\":\n",
        "           print(\"I bet you are seeing RED right now!\")\n",
        "       elif colour==\"blue\": \n",
        "           print(\"Don't feel BLUE.\")\n",
        "       elif colour==\"green\":\n",
        "           print(\"I bet you are GREEN with envy right now.\") \n",
        "       elif colour==\"white\":\n",
        "           print(\"Are you WHITE as a sheet, as you didn't guess correctly?\") \n",
        "       elif colour==\"pink\":\n",
        "           print(\"Shame you are not feeling in the PINK, as you got it wrong!\")         "
      ],
      "metadata": {
        "colab": {
          "base_uri": "https://localhost:8080/"
        },
        "id": "ZnKY8UXpHQC_",
        "outputId": "a073b630-f03c-4e9b-bbdd-e4d9357794ed"
      },
      "execution_count": 21,
      "outputs": [
        {
          "output_type": "stream",
          "name": "stdout",
          "text": [
            "Select from red, blue, green, white or pink\n",
            "Enter a colour: red\n",
            "Are you WHITE as a sheet, as you didn't guess correctly?\n",
            "Enter a colour: white\n",
            "Well done\n"
          ]
        }
      ]
    }
  ]
}