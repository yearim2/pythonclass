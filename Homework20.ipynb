{
  "nbformat": 4,
  "nbformat_minor": 0,
  "metadata": {
    "colab": {
      "provenance": [],
      "authorship_tag": "ABX9TyPjLGb363BvsMzpCiF5BJRP",
      "include_colab_link": true
    },
    "kernelspec": {
      "name": "python3",
      "display_name": "Python 3"
    },
    "language_info": {
      "name": "python"
    }
  },
  "cells": [
    {
      "cell_type": "markdown",
      "metadata": {
        "id": "view-in-github",
        "colab_type": "text"
      },
      "source": [
        "<a href=\"https://colab.research.google.com/github/yearim2/pythonclass/blob/main/Homework20.ipynb\" target=\"_parent\"><img src=\"https://colab.research.google.com/assets/colab-badge.svg\" alt=\"Open In Colab\"/></a>"
      ]
    },
    {
      "cell_type": "code",
      "execution_count": 1,
      "metadata": {
        "colab": {
          "base_uri": "https://localhost:8080/"
        },
        "id": "C8TAoivAJRuu",
        "outputId": "9687d5bf-9d9e-4e3e-f6d4-7091b56b0f0f"
      },
      "outputs": [
        {
          "output_type": "stream",
          "name": "stdout",
          "text": [
            "Enter a number: 10\n",
            "The total is... 10\n",
            "Enter a number: 20\n",
            "The total is... 30\n",
            "Enter a number: 40\n",
            "The total is... 70\n"
          ]
        }
      ],
      "source": [
        "# 045\n",
        "total=0\n",
        "while total <=50:\n",
        "  num=int(input(\"Enter a number: \"))\n",
        "  total=total+num\n",
        "  print(\"The total is...\", total)"
      ]
    },
    {
      "cell_type": "code",
      "source": [
        "# 046\n",
        "num=0\n",
        "while num<=5:\n",
        "  num=int(input(\"Enter a number: \"))\n",
        "print(\"The last number you entered was a\", num)  "
      ],
      "metadata": {
        "colab": {
          "base_uri": "https://localhost:8080/"
        },
        "id": "0kJ9x4U6L8a1",
        "outputId": "8996737e-2421-4f39-8d5a-bfc66397652a"
      },
      "execution_count": 2,
      "outputs": [
        {
          "output_type": "stream",
          "name": "stdout",
          "text": [
            "Enter a number: 3\n",
            "Enter a number: 4\n",
            "Enter a number: 5\n",
            "Enter a number: 2\n",
            "Enter a number: 1\n",
            "Enter a number: 3\n",
            "Enter a number: 1\n",
            "Enter a number: 3\n",
            "Enter a number: 4\n",
            "Enter a number: 6\n",
            "The last number you entered was a 6\n"
          ]
        }
      ]
    },
    {
      "cell_type": "code",
      "source": [
        "# 047\n",
        "num1=int(input(\"Enter a number: \"))\n",
        "total=num1\n",
        "again=\"y\"\n",
        "while again==\"y\":\n",
        "  num2=int(input(\"Enter another number: \"))\n",
        "  total=total+num2\n",
        "  again=input(\"Do you want to add another number? (y/n) \")\n",
        "print(\"The total is \",total)  "
      ],
      "metadata": {
        "colab": {
          "base_uri": "https://localhost:8080/"
        },
        "id": "4MUAkBpqL8gL",
        "outputId": "7a0ba06b-e7be-4762-d8f3-f1e649f48eb0"
      },
      "execution_count": 3,
      "outputs": [
        {
          "output_type": "stream",
          "name": "stdout",
          "text": [
            "Enter a number: 20\n",
            "Enter another number: 10\n",
            "Do you want to add another number? (y/n) y\n",
            "Enter another number: 30\n",
            "Do you want to add another number? (y/n) y\n",
            "Enter another number: 10\n",
            "Do you want to add another number? (y/n) n\n",
            "The total is  70\n"
          ]
        }
      ]
    },
    {
      "cell_type": "code",
      "source": [
        "# 048\n",
        "again=\"y\"\n",
        "count=0\n",
        "while again==\"y\":\n",
        "    name=input(\"Enter a name of somebody you want to invite to your party: \")\n",
        "    print(name, \":has now been invited\")\n",
        "    count=count+1\n",
        "    again=input(\"Do you want to invite somebody else? (y/n) \")\n",
        "print(\"You have\", count, \"people coming to your party\")"
      ],
      "metadata": {
        "colab": {
          "base_uri": "https://localhost:8080/"
        },
        "id": "CJXjo4Y1L8kL",
        "outputId": "0304fb7d-a6a9-443b-cc25-29c782a5b511"
      },
      "execution_count": 1,
      "outputs": [
        {
          "output_type": "stream",
          "name": "stdout",
          "text": [
            "Enter a name of somebody you want to invite to your party: Jane\n",
            "Jane :has now been invited\n",
            "Do you want to invite somebody else? (y/n) n\n",
            "You have 1 people coming to your party\n"
          ]
        }
      ]
    },
    {
      "cell_type": "code",
      "source": [
        "# 049\n",
        "compnum = 50\n",
        "count = 1\n",
        "guess = int(input(\"type any number\"))\n",
        "\n",
        "while guess != compnum :\n",
        "  if guess > compnum :\n",
        "    print(\"it is too high\")\n",
        "    count += 1\n",
        "    guess = int(input(\"type any lower number\"))\n",
        "  else :\n",
        "    print(\"it is too low\")\n",
        "    count += 1\n",
        "    guess = int(input(\"type any higher number\"))\n",
        "\n",
        "print(f\"Well done, you took [{count}] attempts\" )"
      ],
      "metadata": {
        "colab": {
          "base_uri": "https://localhost:8080/"
        },
        "id": "8aByv_lrL8o-",
        "outputId": "92ed9ce5-23f0-4a19-eadd-75d2902492e4"
      },
      "execution_count": 6,
      "outputs": [
        {
          "output_type": "stream",
          "name": "stdout",
          "text": [
            "type any number10\n",
            "it is too low\n",
            "type any higher number20\n",
            "it is too low\n",
            "type any higher number30\n",
            "it is too low\n",
            "type any higher number50\n",
            "Well done, you took [4] attempts\n"
          ]
        }
      ]
    },
    {
      "cell_type": "code",
      "source": [
        "# 050\n",
        "num=int(input(\"Enter a number between 10 and 20: \"))\n",
        "while num<10 or num>20:\n",
        "  if num<10:\n",
        "    print(\"Too low\")\n",
        "  else:\n",
        "    print(\"Too high\")\n",
        "  num=int(input(\"Try again: \"))\n",
        "print(\"Thank you\")      "
      ],
      "metadata": {
        "colab": {
          "base_uri": "https://localhost:8080/"
        },
        "id": "mQOjoowqL8tb",
        "outputId": "a340f525-19cd-460e-b485-be28beeba38b"
      },
      "execution_count": 4,
      "outputs": [
        {
          "output_type": "stream",
          "name": "stdout",
          "text": [
            "Enter a number between 10 and 20: 15\n",
            "Thank you\n"
          ]
        }
      ]
    },
    {
      "cell_type": "code",
      "source": [
        "# 051\n",
        "num=10\n",
        "while num>0:\n",
        "    print(\"There are \", num, \"green bottles hanging on the wall.\")\n",
        "    print(num,\"green bottles hanging on the wall.\")\n",
        "    print(\"And if 1 green bottle should accidentally fall,\")\n",
        "    num=num-1\n",
        "    answer=int(input(\"How many green bottles will be hanging on the wall?\"))\n",
        "    if answer==num:\n",
        "      print(\"There will be\",num,\"green bottles hanging on the wall.\")\n",
        "    else:\n",
        "      while answer!=num:\n",
        "        answer=int(input(\"No, try again: \")) \n",
        "    print(\"There are no more green bottles hanging on the wall.\")     "
      ],
      "metadata": {
        "colab": {
          "base_uri": "https://localhost:8080/"
        },
        "id": "Ii7GLUtAL8w2",
        "outputId": "0ee2ab64-0697-4b21-9c33-3c84a6586f74"
      },
      "execution_count": 5,
      "outputs": [
        {
          "output_type": "stream",
          "name": "stdout",
          "text": [
            "There are  10 green bottles hanging on the wall.\n",
            "10 green bottles hanging on the wall.\n",
            "And if 1 green bottle should accidentally fall,\n",
            "How many green bottles will be hanging on the wall?9\n",
            "There will be 9 green bottles hanging on the wall.\n",
            "There are no more green bottles hanging on the wall.\n",
            "There are  9 green bottles hanging on the wall.\n",
            "9 green bottles hanging on the wall.\n",
            "And if 1 green bottle should accidentally fall,\n",
            "How many green bottles will be hanging on the wall?8\n",
            "There will be 8 green bottles hanging on the wall.\n",
            "There are no more green bottles hanging on the wall.\n",
            "There are  8 green bottles hanging on the wall.\n",
            "8 green bottles hanging on the wall.\n",
            "And if 1 green bottle should accidentally fall,\n",
            "How many green bottles will be hanging on the wall?7\n",
            "There will be 7 green bottles hanging on the wall.\n",
            "There are no more green bottles hanging on the wall.\n",
            "There are  7 green bottles hanging on the wall.\n",
            "7 green bottles hanging on the wall.\n",
            "And if 1 green bottle should accidentally fall,\n",
            "How many green bottles will be hanging on the wall?6\n",
            "There will be 6 green bottles hanging on the wall.\n",
            "There are no more green bottles hanging on the wall.\n",
            "There are  6 green bottles hanging on the wall.\n",
            "6 green bottles hanging on the wall.\n",
            "And if 1 green bottle should accidentally fall,\n",
            "How many green bottles will be hanging on the wall?5\n",
            "There will be 5 green bottles hanging on the wall.\n",
            "There are no more green bottles hanging on the wall.\n",
            "There are  5 green bottles hanging on the wall.\n",
            "5 green bottles hanging on the wall.\n",
            "And if 1 green bottle should accidentally fall,\n",
            "How many green bottles will be hanging on the wall?4\n",
            "There will be 4 green bottles hanging on the wall.\n",
            "There are no more green bottles hanging on the wall.\n",
            "There are  4 green bottles hanging on the wall.\n",
            "4 green bottles hanging on the wall.\n",
            "And if 1 green bottle should accidentally fall,\n",
            "How many green bottles will be hanging on the wall?3\n",
            "There will be 3 green bottles hanging on the wall.\n",
            "There are no more green bottles hanging on the wall.\n",
            "There are  3 green bottles hanging on the wall.\n",
            "3 green bottles hanging on the wall.\n",
            "And if 1 green bottle should accidentally fall,\n",
            "How many green bottles will be hanging on the wall?2\n",
            "There will be 2 green bottles hanging on the wall.\n",
            "There are no more green bottles hanging on the wall.\n",
            "There are  2 green bottles hanging on the wall.\n",
            "2 green bottles hanging on the wall.\n",
            "And if 1 green bottle should accidentally fall,\n",
            "How many green bottles will be hanging on the wall?1\n",
            "There will be 1 green bottles hanging on the wall.\n",
            "There are no more green bottles hanging on the wall.\n",
            "There are  1 green bottles hanging on the wall.\n",
            "1 green bottles hanging on the wall.\n",
            "And if 1 green bottle should accidentally fall,\n",
            "How many green bottles will be hanging on the wall?0\n",
            "There will be 0 green bottles hanging on the wall.\n",
            "There are no more green bottles hanging on the wall.\n"
          ]
        }
      ]
    }
  ]
}