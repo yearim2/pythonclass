{
  "nbformat": 4,
  "nbformat_minor": 0,
  "metadata": {
    "colab": {
      "provenance": [],
      "authorship_tag": "ABX9TyNsS8PUpBLdyNrwxWpGtbZl",
      "include_colab_link": true
    },
    "kernelspec": {
      "name": "python3",
      "display_name": "Python 3"
    },
    "language_info": {
      "name": "python"
    }
  },
  "cells": [
    {
      "cell_type": "markdown",
      "metadata": {
        "id": "view-in-github",
        "colab_type": "text"
      },
      "source": [
        "<a href=\"https://colab.research.google.com/github/yearim2/pythonclass/blob/main/Homework19.ipynb\" target=\"_parent\"><img src=\"https://colab.research.google.com/assets/colab-badge.svg\" alt=\"Open In Colab\"/></a>"
      ]
    },
    {
      "cell_type": "code",
      "execution_count": null,
      "metadata": {
        "colab": {
          "base_uri": "https://localhost:8080/"
        },
        "id": "i3w0X-Zg8-YO",
        "outputId": "3bf9962e-922d-4ea5-deb1-6fa6a7f7d50b"
      },
      "outputs": [
        {
          "output_type": "stream",
          "name": "stdout",
          "text": [
            "Enter your name :  yearim\n",
            "yearim\n",
            "yearim\n",
            "yearim\n"
          ]
        }
      ],
      "source": [
        "# 035\n",
        "name = input(\"Enter your name :  \")\n",
        "#print(name)\n",
        "#print(name)\n",
        "#print(name)\n",
        "\n",
        "for i in range(3) :\n",
        "  print(name)\n"
      ]
    },
    {
      "cell_type": "code",
      "source": [
        "# 036\n",
        "name=input(\"Type in your name:\")\n",
        "number=int(input(\"Enter a number:\"))\n",
        "for i in range(0,number):\n",
        "  print(name)"
      ],
      "metadata": {
        "colab": {
          "base_uri": "https://localhost:8080/"
        },
        "id": "vgkPOyVy8_-h",
        "outputId": "82f5525f-143f-4ae1-ef65-0f25bfc2c3a3"
      },
      "execution_count": null,
      "outputs": [
        {
          "output_type": "stream",
          "name": "stdout",
          "text": [
            "Type in your name:yearim\n",
            "Enter a number:3\n",
            "yearim\n",
            "yearim\n",
            "yearim\n"
          ]
        }
      ]
    },
    {
      "cell_type": "code",
      "source": [
        "# 037\n",
        "name=input(\"Enter your name: \")\n",
        "for i in name:\n",
        "  print(i)"
      ],
      "metadata": {
        "colab": {
          "base_uri": "https://localhost:8080/"
        },
        "id": "qXrOd_vy9ABk",
        "outputId": "eda66bf7-59ce-4085-e548-b75efb704f85"
      },
      "execution_count": null,
      "outputs": [
        {
          "output_type": "stream",
          "name": "stdout",
          "text": [
            "Enter your name: yearim\n",
            "y\n",
            "e\n",
            "a\n",
            "r\n",
            "i\n",
            "m\n"
          ]
        }
      ]
    },
    {
      "cell_type": "code",
      "source": [
        "# 038\n",
        "name = input(\"Enter your name :  \")\n",
        "num = int(input(\"Enter a number for repeat times : \"))\n",
        "\n",
        "for i in range(num) :\n",
        "  for letter in name :\n",
        "      print(letter)"
      ],
      "metadata": {
        "colab": {
          "base_uri": "https://localhost:8080/"
        },
        "id": "JuJB3Ai29AFF",
        "outputId": "20ef74b7-3faf-4d6b-8780-1faea8cc6b2b"
      },
      "execution_count": 36,
      "outputs": [
        {
          "output_type": "stream",
          "name": "stdout",
          "text": [
            "Enter your name :  yearim\n",
            "Enter a number for repeat times : 2\n",
            "y\n",
            "e\n",
            "a\n",
            "r\n",
            "i\n",
            "m\n",
            "y\n",
            "e\n",
            "a\n",
            "r\n",
            "i\n",
            "m\n"
          ]
        }
      ]
    },
    {
      "cell_type": "code",
      "source": [
        "# 039\n",
        "num=int(input(\"Enter a number between 1 and 12: \"))\n",
        "for i in range(1,13):\n",
        "  answer=i * num\n",
        "  print(i,\"x\",num,\"=\",answer)"
      ],
      "metadata": {
        "colab": {
          "base_uri": "https://localhost:8080/"
        },
        "id": "3iaMZASr9ALf",
        "outputId": "3115677f-8135-4ea6-e980-8c17502ca1fc"
      },
      "execution_count": null,
      "outputs": [
        {
          "output_type": "stream",
          "name": "stdout",
          "text": [
            "Enter a number between 1 and 12: 10\n",
            "1 x 10 = 10\n",
            "2 x 10 = 20\n",
            "3 x 10 = 30\n",
            "4 x 10 = 40\n",
            "5 x 10 = 50\n",
            "6 x 10 = 60\n",
            "7 x 10 = 70\n",
            "8 x 10 = 80\n",
            "9 x 10 = 90\n",
            "10 x 10 = 100\n",
            "11 x 10 = 110\n",
            "12 x 10 = 120\n"
          ]
        }
      ]
    },
    {
      "cell_type": "code",
      "source": [
        "# 040\n",
        "num=int(input(\"Enter a number below 50: \"))\n",
        "for i in range(50,num-1,-1):\n",
        "   print(i)"
      ],
      "metadata": {
        "colab": {
          "base_uri": "https://localhost:8080/"
        },
        "id": "aNukkpsG9AO7",
        "outputId": "f17f3ca6-0733-47ab-e84b-cff101c2d8d2"
      },
      "execution_count": null,
      "outputs": [
        {
          "output_type": "stream",
          "name": "stdout",
          "text": [
            "Enter a number below 50: 40\n",
            "50\n",
            "49\n",
            "48\n",
            "47\n",
            "46\n",
            "45\n",
            "44\n",
            "43\n",
            "42\n",
            "41\n",
            "40\n"
          ]
        }
      ]
    },
    {
      "cell_type": "code",
      "source": [
        "# 041\n",
        "name=input(\"Enter your name: \")\n",
        "num=int(input(\"Enter a number: \"))\n",
        "if num<10:\n",
        "  for i in range(0,num):\n",
        "    print(name)\n",
        "else:\n",
        "  for i in range(0,3):\n",
        "    print(\"Too high\")\n"
      ],
      "metadata": {
        "colab": {
          "base_uri": "https://localhost:8080/"
        },
        "id": "Z374ID5U9ATc",
        "outputId": "3c543200-b49f-42fe-dbb8-210df90ebc55"
      },
      "execution_count": null,
      "outputs": [
        {
          "output_type": "stream",
          "name": "stdout",
          "text": [
            "Enter your name: yearim\n",
            "Enter a number: 6\n",
            "Too high\n",
            "Too high\n",
            "Too high\n",
            "Too high\n",
            "Too high\n",
            "Too high\n"
          ]
        }
      ]
    },
    {
      "cell_type": "code",
      "source": [
        "# 042\n",
        "total = 0\n",
        "\n",
        "for i in range(5) :\n",
        "  num = int(input(\"enter a number :  \"))\n",
        "  want = input(\"enter Yes to add this number to total, otherwise enter No: \")\n",
        "  if want == \"Yes\" :\n",
        "    total += num\n",
        "\n",
        "print(\"total number is \",total)  "
      ],
      "metadata": {
        "colab": {
          "base_uri": "https://localhost:8080/"
        },
        "id": "plnHnfsj9AX0",
        "outputId": "ee4b35d7-ca1c-4438-efbf-0cea668f1311"
      },
      "execution_count": 40,
      "outputs": [
        {
          "output_type": "stream",
          "name": "stdout",
          "text": [
            "enter a number :  5\n",
            "enter Yes to add this number to total, otherwise enter No: Yes\n",
            "enter a number :  4\n",
            "enter Yes to add this number to total, otherwise enter No: Yes\n",
            "enter a number :  3\n",
            "enter Yes to add this number to total, otherwise enter No: No\n",
            "enter a number :  1\n",
            "enter Yes to add this number to total, otherwise enter No: Yes\n",
            "enter a number :  2\n",
            "enter Yes to add this number to total, otherwise enter No: No\n",
            "total number is  10\n"
          ]
        }
      ]
    },
    {
      "cell_type": "code",
      "source": [
        "# 043\n",
        "direct = input(\"which direction do you want, up or down?  \")\n",
        "if direct == \"up\" :\n",
        "   num = int(input(\"what top number do you want? \"))\n",
        "   for i in range(1,num+1) :\n",
        "     print(i)\n",
        "elif direct == \"down\" :\n",
        "   num = int(input(\"enter a number below 20  \"))\n",
        "   for i in range(20,num-1,-1) :\n",
        "     print(i)\n",
        "else : \n",
        "   print(\"I don't understand\")     "
      ],
      "metadata": {
        "colab": {
          "base_uri": "https://localhost:8080/"
        },
        "id": "AGrJ4v-f9AdS",
        "outputId": "1641b307-0c3c-492a-e26c-c30de1c23f8a"
      },
      "execution_count": 41,
      "outputs": [
        {
          "output_type": "stream",
          "name": "stdout",
          "text": [
            "which direction do you want, up or down?  down\n",
            "enter a number below 20  10\n",
            "20\n",
            "19\n",
            "18\n",
            "17\n",
            "16\n",
            "15\n",
            "14\n",
            "13\n",
            "12\n",
            "11\n",
            "10\n"
          ]
        }
      ]
    },
    {
      "cell_type": "code",
      "source": [
        "# 044\n",
        "num=int(input(\"How many friends do you want to invite to the party? \"))\n",
        "if num<10:\n",
        "   for i in range(0,num):\n",
        "     name=input(\"Enter a name: \")\n",
        "     print(name, \"has been invited\")\n",
        "else:\n",
        "  print(\"Too many people\")     "
      ],
      "metadata": {
        "colab": {
          "base_uri": "https://localhost:8080/"
        },
        "id": "x-0u4q6Z9Ah7",
        "outputId": "b634d384-0142-4ff1-f263-cfe6d7fd6c93"
      },
      "execution_count": null,
      "outputs": [
        {
          "output_type": "stream",
          "name": "stdout",
          "text": [
            "How many friends do you want to invite to the party? 2\n",
            "Enter a name: Jane\n",
            "Jane has been invited\n",
            "Enter a name: Yolanda\n",
            "Yolanda has been invited\n"
          ]
        }
      ]
    }
  ]
}