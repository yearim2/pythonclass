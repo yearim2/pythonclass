{
  "nbformat": 4,
  "nbformat_minor": 0,
  "metadata": {
    "colab": {
      "provenance": [],
      "authorship_tag": "ABX9TyPrXJvyQsPRbeFBSkrihOir",
      "include_colab_link": true
    },
    "kernelspec": {
      "name": "python3",
      "display_name": "Python 3"
    },
    "language_info": {
      "name": "python"
    }
  },
  "cells": [
    {
      "cell_type": "markdown",
      "metadata": {
        "id": "view-in-github",
        "colab_type": "text"
      },
      "source": [
        "<a href=\"https://colab.research.google.com/github/yearim2/pythonclass/blob/main/Homework1.ipynb\" target=\"_parent\"><img src=\"https://colab.research.google.com/assets/colab-badge.svg\" alt=\"Open In Colab\"/></a>"
      ]
    },
    {
      "cell_type": "code",
      "execution_count": null,
      "metadata": {
        "colab": {
          "base_uri": "https://localhost:8080/"
        },
        "id": "xprRG0b40rOo",
        "outputId": "19617fdc-5c62-4ea8-8998-9601aa464d08"
      },
      "outputs": [
        {
          "output_type": "stream",
          "name": "stdout",
          "text": [
            "Hello World\n",
            "Mary's cosmetics\n",
            "신씨가 소리질렀다. \"도둑이야\".\n",
            "\"C:\\Windows\"\n",
            "안녕하세요.\n",
            "만나서\t\t반갑습니다.\n",
            "오늘은 일요일\n",
            "naver;kakao;sk;samsung\n",
            "naver/kakao/sk/samsung\n",
            "1.6666666666666667\n",
            "500000\n",
            "hello! python\n",
            "8\n",
            "<class 'str'>\n",
            "720\n",
            "100\n",
            "15.79\n",
            "2020\n",
            "2021\n",
            "2022\n",
            "1749024\n"
          ]
        }
      ],
      "source": [
        "# 001\n",
        "a=\"Hello World\"\n",
        "print(a)\n",
        "\n",
        "# 002\n",
        "b=\"Mary's cosmetics\"  # 작은 따옴표 에러남\n",
        "print(b)\n",
        "\n",
        "# 003\n",
        "print('신씨가 소리질렀다. \"도둑이야\".') \n",
        "\n",
        "# 004\n",
        "print('\"C:\\Windows\"')\n",
        "\n",
        "# 005\n",
        "print(\"안녕하세요.\\n만나서\\t\\t반갑습니다.\") \n",
        "# \\t : 일정 간격 띄우기, \\n :강제 줄바꿈\n",
        "\n",
        "# 006 \n",
        "print (\"오늘은\", \"일요일\")\n",
        "\n",
        "# 007 \n",
        "print(\"naver;kakao;sk;samsung\")\n",
        "\n",
        "# 008\n",
        "print(\"naver/kakao/sk/samsung\")\n",
        "\n",
        "# 009\n",
        "\n",
        "# 010\n",
        "a=5\n",
        "b=3\n",
        "print(a/b)\n",
        "\n",
        "# 011\n",
        "a=삼성전자=50000\n",
        "print(a*10)\n",
        "\n",
        "# 012\n",
        "\n",
        "\n",
        "# 013\n",
        "s = \"hello!\"\n",
        "t = \"python\"\n",
        "print(s,t)\n",
        "\n",
        "# 014\n",
        "a=2\n",
        "b=3\n",
        "print(a+a*b)\n",
        "\n",
        "# 015\n",
        "a = \"132\"\n",
        "print(type(a))\n",
        "\n",
        "# 016\n",
        "a=720\n",
        "print(a)\n",
        "\n",
        "# 017\n",
        "print(\"100\")\n",
        "\n",
        "# 018\n",
        "a=15.79\n",
        "print(a)\n",
        "\n",
        "# 019\n",
        "a=2020\n",
        "b=2021\n",
        "c=2022\n",
        "print(a)\n",
        "print(b)\n",
        "print(c)\n",
        "\n",
        "# 020\n",
        "a=48584\n",
        "b=36\n",
        "print(a*b)\n",
        "\n"
      ]
    }
  ]
}