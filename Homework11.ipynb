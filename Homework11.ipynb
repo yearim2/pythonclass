{
  "nbformat": 4,
  "nbformat_minor": 0,
  "metadata": {
    "colab": {
      "provenance": [],
      "authorship_tag": "ABX9TyPJ6tM9454A5rX8ZMZsdStJ",
      "include_colab_link": true
    },
    "kernelspec": {
      "name": "python3",
      "display_name": "Python 3"
    },
    "language_info": {
      "name": "python"
    }
  },
  "cells": [
    {
      "cell_type": "markdown",
      "metadata": {
        "id": "view-in-github",
        "colab_type": "text"
      },
      "source": [
        "<a href=\"https://colab.research.google.com/github/yearim2/pythonclass/blob/main/Homework11.ipynb\" target=\"_parent\"><img src=\"https://colab.research.google.com/assets/colab-badge.svg\" alt=\"Open In Colab\"/></a>"
      ]
    },
    {
      "cell_type": "code",
      "execution_count": null,
      "metadata": {
        "colab": {
          "base_uri": "https://localhost:8080/"
        },
        "id": "6d6iC91PwonD",
        "outputId": "001f2ce8-8aff-45f9-a3c6-45f9bf9ac25b"
      },
      "outputs": [
        {
          "output_type": "stream",
          "name": "stdout",
          "text": [
            "32100\n",
            "32150\n",
            "32000\n",
            "32500\n"
          ]
        }
      ],
      "source": [
        "# 171\n",
        "price_list = [32100, 32150, 32000, 32500]\n",
        "for i in range(len(price_list)):\n",
        "    print(price_list[i])"
      ]
    },
    {
      "cell_type": "code",
      "source": [
        "# 172\n",
        "price_list = [32100, 32150, 32000, 32500]\n",
        "for i, data in enumerate(price_list):\n",
        "    print(i, data)"
      ],
      "metadata": {
        "colab": {
          "base_uri": "https://localhost:8080/"
        },
        "id": "S6-7JOAawuMA",
        "outputId": "f1448a3a-919d-473a-8d1f-39c4973d0775"
      },
      "execution_count": null,
      "outputs": [
        {
          "output_type": "stream",
          "name": "stdout",
          "text": [
            "0 32100\n",
            "1 32150\n",
            "2 32000\n",
            "3 32500\n"
          ]
        }
      ]
    },
    {
      "cell_type": "code",
      "source": [
        "# 173\n",
        "for i in range(len(price_list)):\n",
        "    print((len(price_list) - 1) - i, price_list[i])"
      ],
      "metadata": {
        "colab": {
          "base_uri": "https://localhost:8080/"
        },
        "id": "NeFNh3UWwuf4",
        "outputId": "14f23e2b-f45c-4a59-db63-fd7516903416"
      },
      "execution_count": null,
      "outputs": [
        {
          "output_type": "stream",
          "name": "stdout",
          "text": [
            "3 32100\n",
            "2 32150\n",
            "1 32000\n",
            "0 32500\n"
          ]
        }
      ]
    },
    {
      "cell_type": "code",
      "source": [
        "# 174\n",
        "for i in range(1, 4):\n",
        "    print(90 + 10 * i, price_list[i])"
      ],
      "metadata": {
        "colab": {
          "base_uri": "https://localhost:8080/"
        },
        "id": "oEmq9G4VwyBX",
        "outputId": "3663015a-07c9-4397-f3d7-a7a6d1450936"
      },
      "execution_count": null,
      "outputs": [
        {
          "output_type": "stream",
          "name": "stdout",
          "text": [
            "100 32150\n",
            "110 32000\n",
            "120 32500\n"
          ]
        }
      ]
    },
    {
      "cell_type": "code",
      "source": [
        "# 175\n",
        "my_list = [\"가\", \"나\", \"다\", \"라\"]\n",
        "for i in range( 1, len(my_list) ) :\n",
        "  print(my_list[i-1], my_list[i])"
      ],
      "metadata": {
        "colab": {
          "base_uri": "https://localhost:8080/"
        },
        "id": "w0z5rMjdwyJc",
        "outputId": "bd351b04-d668-4c6f-a859-73949f3330c5"
      },
      "execution_count": null,
      "outputs": [
        {
          "output_type": "stream",
          "name": "stdout",
          "text": [
            "가 나\n",
            "나 다\n",
            "다 라\n"
          ]
        }
      ]
    },
    {
      "cell_type": "code",
      "source": [
        "# 176\n",
        "my_list = [\"가\", \"나\", \"다\", \"라\", \"마\"]\n",
        "for i in range( 2, len(my_list) ):\n",
        "    print(my_list[i-2], my_list[i-1], my_list[i])"
      ],
      "metadata": {
        "colab": {
          "base_uri": "https://localhost:8080/"
        },
        "id": "QuAb63SQwyOL",
        "outputId": "c715b7c7-e9f1-4a70-86b3-447c0f637524"
      },
      "execution_count": null,
      "outputs": [
        {
          "output_type": "stream",
          "name": "stdout",
          "text": [
            "가 나 다\n",
            "나 다 라\n",
            "다 라 마\n"
          ]
        }
      ]
    },
    {
      "cell_type": "code",
      "source": [
        "# 177\n",
        "my_list = [\"가\", \"나\", \"다\", \"라\"]\n",
        "for i in range(len(my_list) - 1):\n",
        "   print(my_list[len(my_list) - 1 - i], my_list[len(my_list) - 2 - i])"
      ],
      "metadata": {
        "colab": {
          "base_uri": "https://localhost:8080/"
        },
        "id": "xSa8mciAwyRx",
        "outputId": "53d71dea-04d5-4aa8-b000-25c3b4c96ada"
      },
      "execution_count": null,
      "outputs": [
        {
          "output_type": "stream",
          "name": "stdout",
          "text": [
            "라 다\n",
            "다 나\n",
            "나 가\n"
          ]
        }
      ]
    },
    {
      "cell_type": "code",
      "source": [
        "# 178\n",
        "my_list = [100, 200, 400, 800]\n",
        "for i in range(len(my_list) - 1):\n",
        "  print(abs(my_list[i+1] - my_list[i]))\n"
      ],
      "metadata": {
        "colab": {
          "base_uri": "https://localhost:8080/"
        },
        "id": "OdWjAkRxwyYb",
        "outputId": "0a1f0cb6-d4ed-4dd1-e3fd-9a951d01d482"
      },
      "execution_count": null,
      "outputs": [
        {
          "output_type": "stream",
          "name": "stdout",
          "text": [
            "100\n",
            "200\n",
            "400\n"
          ]
        }
      ]
    },
    {
      "cell_type": "code",
      "source": [
        "# 179\n",
        "my_list = [100, 200, 400, 800, 1000, 1300]\n",
        "for i in range(1, len(my_list) - 1):\n",
        "  print(abs(my_list[i-1] + my_list[i] + my_list[i+1]) / 3)"
      ],
      "metadata": {
        "colab": {
          "base_uri": "https://localhost:8080/"
        },
        "id": "K93qfAXdwybs",
        "outputId": "926d57ac-18b7-45f9-f2d9-716c07c4aa34"
      },
      "execution_count": null,
      "outputs": [
        {
          "output_type": "stream",
          "name": "stdout",
          "text": [
            "233.33333333333334\n",
            "466.6666666666667\n",
            "733.3333333333334\n",
            "1033.3333333333333\n"
          ]
        }
      ]
    },
    {
      "cell_type": "code",
      "source": [
        "# 180\n",
        "low_prices  = [100, 200, 400, 800, 1000]\n",
        "high_prices = [150, 300, 430, 880, 1000]\n",
        "volatility = []\n",
        "for i in range(len(low_prices)) :\n",
        "  volatility.append(high_prices[i] - low_prices[i])"
      ],
      "metadata": {
        "id": "hxw1sAetwyfU"
      },
      "execution_count": null,
      "outputs": []
    },
    {
      "cell_type": "code",
      "source": [
        "# 181\n",
        "apart = [ [\"101호\", \"102호\"], [\"201호\", \"202호\"], [\"301호\", \"302호\"] ]"
      ],
      "metadata": {
        "id": "pbU4MHZ5wyk6"
      },
      "execution_count": null,
      "outputs": []
    },
    {
      "cell_type": "code",
      "source": [
        "# 182\n",
        "stock = [ [\"시가\", 100, 200, 300], [\"종가\", 80, 210, 330] ]"
      ],
      "metadata": {
        "id": "pVLd3GXhwyoU"
      },
      "execution_count": null,
      "outputs": []
    },
    {
      "cell_type": "code",
      "source": [
        "# 183\n",
        "stock = {\"시가\": [100, 200, 300], \"종가\": [80, 210, 330] }"
      ],
      "metadata": {
        "id": "rrpXHUzowyrK"
      },
      "execution_count": null,
      "outputs": []
    },
    {
      "cell_type": "code",
      "source": [
        "# 184\n",
        "stock = {\"10/10\": [80, 110, 70, 90], \"10/11\": [210, 230, 190, 200] }"
      ],
      "metadata": {
        "id": "yhMEviUEwyt8"
      },
      "execution_count": null,
      "outputs": []
    },
    {
      "cell_type": "code",
      "source": [
        "# 185\n",
        "apart = [ [101, 102], [201, 202], [301, 302] ]\n",
        "for row in apart:\n",
        "  for col in row:\n",
        "    print(col, \"호\")"
      ],
      "metadata": {
        "colab": {
          "base_uri": "https://localhost:8080/"
        },
        "id": "4TNQlTsXwyv4",
        "outputId": "cb9995d5-ad23-4fe4-f7c3-fbea15874d87"
      },
      "execution_count": null,
      "outputs": [
        {
          "output_type": "stream",
          "name": "stdout",
          "text": [
            "101 호\n",
            "102 호\n",
            "201 호\n",
            "202 호\n",
            "301 호\n",
            "302 호\n"
          ]
        }
      ]
    },
    {
      "cell_type": "code",
      "source": [
        "# 186\n",
        "apart = [ [101, 102], [201, 202], [301, 302] ]\n",
        "for row in apart[::-1]:\n",
        "  for col in row:\n",
        "    print(col, \"호\")"
      ],
      "metadata": {
        "colab": {
          "base_uri": "https://localhost:8080/"
        },
        "id": "yvx2ftWjxCHs",
        "outputId": "09758aae-ff67-481c-c8b6-d06396f7771a"
      },
      "execution_count": null,
      "outputs": [
        {
          "output_type": "stream",
          "name": "stdout",
          "text": [
            "301 호\n",
            "302 호\n",
            "201 호\n",
            "202 호\n",
            "101 호\n",
            "102 호\n"
          ]
        }
      ]
    },
    {
      "cell_type": "code",
      "source": [
        "# 187\n",
        "apart = [ [101, 102], [201, 202], [301, 302] ]\n",
        "for row in apart[::-1]:\n",
        "  for col in row[::-1]:\n",
        "    print(col, \"호\")"
      ],
      "metadata": {
        "colab": {
          "base_uri": "https://localhost:8080/"
        },
        "id": "u_aXUt_gxDTK",
        "outputId": "7d15a578-8a26-47ef-d98a-38c33223da0f"
      },
      "execution_count": null,
      "outputs": [
        {
          "output_type": "stream",
          "name": "stdout",
          "text": [
            "302 호\n",
            "301 호\n",
            "202 호\n",
            "201 호\n",
            "102 호\n",
            "101 호\n"
          ]
        }
      ]
    },
    {
      "cell_type": "code",
      "source": [
        "# 188\n",
        "apart = [ [101, 102], [201, 202], [301, 302] ]\n",
        "for row in apart:\n",
        "  for col in row:\n",
        "    print(col, \"호\")\n",
        "    print(\"-\" * 5)"
      ],
      "metadata": {
        "colab": {
          "base_uri": "https://localhost:8080/"
        },
        "id": "iREnEY62xCUR",
        "outputId": "377fd9f7-ec4a-4e55-e2a4-ad87f5b8ed35"
      },
      "execution_count": null,
      "outputs": [
        {
          "output_type": "stream",
          "name": "stdout",
          "text": [
            "101 호\n",
            "-----\n",
            "102 호\n",
            "-----\n",
            "201 호\n",
            "-----\n",
            "202 호\n",
            "-----\n",
            "301 호\n",
            "-----\n",
            "302 호\n",
            "-----\n"
          ]
        }
      ]
    },
    {
      "cell_type": "code",
      "source": [
        "# 189\n",
        "apart = [ [101, 102], [201, 202], [301, 302] ]\n",
        "for row in apart:\n",
        "  for col in row:\n",
        "    print(col, \"호\")\n",
        "    print(\"-----\")"
      ],
      "metadata": {
        "colab": {
          "base_uri": "https://localhost:8080/"
        },
        "id": "lzHZOtuRxCYF",
        "outputId": "02468501-09c0-4e3b-e639-00043f0c25c2"
      },
      "execution_count": null,
      "outputs": [
        {
          "output_type": "stream",
          "name": "stdout",
          "text": [
            "101 호\n",
            "-----\n",
            "102 호\n",
            "-----\n",
            "201 호\n",
            "-----\n",
            "202 호\n",
            "-----\n",
            "301 호\n",
            "-----\n",
            "302 호\n",
            "-----\n"
          ]
        }
      ]
    },
    {
      "cell_type": "code",
      "source": [
        "# 190\n",
        "apart = [ [101, 102], [201, 202], [301, 302] ]\n",
        "for row in apart:\n",
        "  for col in row:\n",
        "    print(col, \"호\")\n",
        "print(\"-\" * 5)"
      ],
      "metadata": {
        "colab": {
          "base_uri": "https://localhost:8080/"
        },
        "id": "GM77OOFCxCbO",
        "outputId": "940fe7df-7022-4b37-a8c4-65b8cde3a92f"
      },
      "execution_count": null,
      "outputs": [
        {
          "output_type": "stream",
          "name": "stdout",
          "text": [
            "101 호\n",
            "102 호\n",
            "201 호\n",
            "202 호\n",
            "301 호\n",
            "302 호\n",
            "-----\n"
          ]
        }
      ]
    }
  ]
}