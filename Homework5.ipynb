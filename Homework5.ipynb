{
  "nbformat": 4,
  "nbformat_minor": 0,
  "metadata": {
    "colab": {
      "provenance": [],
      "collapsed_sections": [],
      "authorship_tag": "ABX9TyMYo6yOTS2kzz+dRCe72UE5",
      "include_colab_link": true
    },
    "kernelspec": {
      "name": "python3",
      "display_name": "Python 3"
    },
    "language_info": {
      "name": "python"
    }
  },
  "cells": [
    {
      "cell_type": "markdown",
      "metadata": {
        "id": "view-in-github",
        "colab_type": "text"
      },
      "source": [
        "<a href=\"https://colab.research.google.com/github/yearim2/pythonclass/blob/main/Homework5.ipynb\" target=\"_parent\"><img src=\"https://colab.research.google.com/assets/colab-badge.svg\" alt=\"Open In Colab\"/></a>"
      ]
    },
    {
      "cell_type": "code",
      "source": [
        "# 001\n",
        "firstname = input(\"Enter your First Name\")\n",
        "print(\"Hello\"+\" [\"+firstname+\"]\")"
      ],
      "metadata": {
        "colab": {
          "base_uri": "https://localhost:8080/"
        },
        "id": "eotekyNuIK8-",
        "outputId": "de778e37-016f-49b4-c32e-0c7bcd925adf"
      },
      "execution_count": null,
      "outputs": [
        {
          "output_type": "stream",
          "name": "stdout",
          "text": [
            "Enter your First NameYea-Rim\n",
            "Hello [Yea-Rim]\n"
          ]
        }
      ]
    },
    {
      "cell_type": "code",
      "source": [
        "# 002\n",
        "firstname = input(\"Enter your First Name\")\n",
        "surname = input(\"Enter your Surname\")\n",
        "print(\"Hello\"+\" [\"+firstname+surname+\"]\")"
      ],
      "metadata": {
        "colab": {
          "base_uri": "https://localhost:8080/"
        },
        "id": "1t-kRjzqqY2h",
        "outputId": "035d0c67-7fa0-4f56-dfca-9e03350a2cd2"
      },
      "execution_count": null,
      "outputs": [
        {
          "output_type": "stream",
          "name": "stdout",
          "text": [
            "Enter your First NameYea-Rim\n",
            "Enter your SurnameSong\n",
            "Hello [Yea-RimSong]\n"
          ]
        }
      ]
    },
    {
      "cell_type": "code",
      "source": [
        "# 003\n",
        "print(\"What do you call a bear with no teeth?\\nA gummy bear!\")"
      ],
      "metadata": {
        "colab": {
          "base_uri": "https://localhost:8080/"
        },
        "id": "Lv1YUVXYq8cY",
        "outputId": "069ae3d8-e44f-404a-bf3a-d1a0cda9a566"
      },
      "execution_count": null,
      "outputs": [
        {
          "output_type": "stream",
          "name": "stdout",
          "text": [
            "What do you call a bear with no teeth?\n",
            "A gummy bear!\n"
          ]
        }
      ]
    },
    {
      "cell_type": "code",
      "source": [
        "# 004\n",
        "num1 = int(input (\"Enter any number:  \"))\n",
        "num2 = int(input (\"Enter any number again, it could be same as before or differ:  \"))\n",
        "print(\"The total is\", num1 + num2)"
      ],
      "metadata": {
        "colab": {
          "base_uri": "https://localhost:8080/"
        },
        "id": "b6M3RQ9EroPo",
        "outputId": "d3a31749-49ed-4a67-f35b-6ad5eb182cc7"
      },
      "execution_count": null,
      "outputs": [
        {
          "output_type": "stream",
          "name": "stdout",
          "text": [
            "Enter any number:  3\n",
            "Enter any number again, it could be same as before or differ:  9\n",
            "The total is 12\n"
          ]
        }
      ]
    },
    {
      "cell_type": "code",
      "source": [
        "# 005\n"
      ],
      "metadata": {
        "id": "V4t-1Winr79h"
      },
      "execution_count": null,
      "outputs": []
    },
    {
      "cell_type": "code",
      "source": [
        "# 006\n",
        "a = input(\"Enter the 'How many slices of pizza you started?' : \")\n",
        "b = input(\"Enter the 'How many slices of pizza did you eat?' : \")\n",
        "print(\"There are\", int(a)-int(b), \"pieces of pizza left\")"
      ],
      "metadata": {
        "colab": {
          "base_uri": "https://localhost:8080/"
        },
        "id": "jiU7L6iSwBsk",
        "outputId": "05189fd5-d0b3-44fb-d2c2-a0ef88f44855"
      },
      "execution_count": null,
      "outputs": [
        {
          "output_type": "stream",
          "name": "stdout",
          "text": [
            "Enter the 'How many slices of pizza you started?' : 10\n",
            "Enter the 'How many slices of pizza did you eat?' : 2\n",
            "There are 8 pieces of pizza left\n"
          ]
        }
      ]
    },
    {
      "cell_type": "code",
      "source": [
        "# 007\n",
        "a = input(\"Enter your Name : \")\n",
        "b = input(\"Enter your Age : \")\n",
        "print(\"[\", a, \"]\", \"next birthday you will be\", \"[\", int(b)+1,\"]\")"
      ],
      "metadata": {
        "colab": {
          "base_uri": "https://localhost:8080/"
        },
        "id": "HR1-8bVpwCAy",
        "outputId": "8973e86a-a7e3-4110-d383-37594c5a12bd"
      },
      "execution_count": null,
      "outputs": [
        {
          "output_type": "stream",
          "name": "stdout",
          "text": [
            "Enter your Name : Yea-Rim\n",
            "Enter your Age : 34\n",
            "[ Yea-Rim ] next birthday you will be [ 35 ]\n"
          ]
        }
      ]
    },
    {
      "cell_type": "code",
      "source": [
        "# 008\n",
        "a = input(\"How many people there are? : \")\n",
        "b = input(\"Enter the total bill : \")\n",
        "print(\"Each person has to pay is\", int(b)/int(a), \"Won\")"
      ],
      "metadata": {
        "colab": {
          "base_uri": "https://localhost:8080/"
        },
        "id": "a9mWUNlhwxHc",
        "outputId": "03a07429-64f0-4936-cd41-72311d46e8ba"
      },
      "execution_count": null,
      "outputs": [
        {
          "output_type": "stream",
          "name": "stdout",
          "text": [
            "How many people there are? : 5\n",
            "Enter the total bill : 50000\n",
            "Each person has to pay is 10000.0 Won\n"
          ]
        }
      ]
    },
    {
      "cell_type": "code",
      "source": [
        "# 009\n",
        "a = input(\"Enter a number of days : \")\n",
        "print(\"This is Date Calculator\" \"\\n[\", int(a), \"days ]\" \"\\n[\", int(a)*24, \"hours ]\" \"\\n[\", int(a)*24*60, \"minutes ]\" \"\\n[\", int(a)*24*60*60, \"seconds ]\")\n"
      ],
      "metadata": {
        "colab": {
          "base_uri": "https://localhost:8080/"
        },
        "id": "E2VRzC5Dw92G",
        "outputId": "9dc15725-29fb-4220-f9cf-fbae94eab888"
      },
      "execution_count": null,
      "outputs": [
        {
          "output_type": "stream",
          "name": "stdout",
          "text": [
            "Enter a number of days : 10\n",
            "This is Date Calculator\n",
            "[ 10 days ]\n",
            "[ 240 hours ]\n",
            "[ 14400 minutes ]\n",
            "[ 864000 seconds ]\n"
          ]
        }
      ]
    },
    {
      "cell_type": "code",
      "source": [
        "# 010\n",
        "a = input(\"Enter your Weight : \")\n",
        "print(\"Converter(kg to lb)\", float(a)*2.204623, \"lb\")\n"
      ],
      "metadata": {
        "colab": {
          "base_uri": "https://localhost:8080/"
        },
        "id": "IpuLCZDQxJOv",
        "outputId": "29260fd1-1ffd-4cd7-b64f-318b6609051c"
      },
      "execution_count": null,
      "outputs": [
        {
          "output_type": "stream",
          "name": "stdout",
          "text": [
            "Enter your Weight : 50\n",
            "Converter(kg to lb) 110.23115000000001 lb\n"
          ]
        }
      ]
    },
    {
      "cell_type": "code",
      "source": [
        "# 011\n",
        "a = input(\"Enter a number over 100 : \")\n",
        "b = input(\"Enter a number unber 10 : \")\n",
        "print(int(b), \"goes into\", int(a), int(a)/int(b), \"times\")"
      ],
      "metadata": {
        "colab": {
          "base_uri": "https://localhost:8080/"
        },
        "id": "sW5lws-vx3-o",
        "outputId": "6c44bfa3-c3b9-4488-cef2-87758a6c1a4d"
      },
      "execution_count": null,
      "outputs": [
        {
          "output_type": "stream",
          "name": "stdout",
          "text": [
            "Enter a number over 100 : 101\n",
            "Enter a number unber 10 : 1\n",
            "1 goes into 101 101.0 times\n"
          ]
        }
      ]
    }
  ]
}