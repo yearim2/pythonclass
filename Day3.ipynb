{
  "nbformat": 4,
  "nbformat_minor": 0,
  "metadata": {
    "colab": {
      "provenance": [],
      "authorship_tag": "ABX9TyNpI121Wk17H30sZR9Mz1YG",
      "include_colab_link": true
    },
    "kernelspec": {
      "name": "python3",
      "display_name": "Python 3"
    },
    "language_info": {
      "name": "python"
    }
  },
  "cells": [
    {
      "cell_type": "markdown",
      "metadata": {
        "id": "view-in-github",
        "colab_type": "text"
      },
      "source": [
        "<a href=\"https://colab.research.google.com/github/yearim2/pythonclass/blob/main/Day3.ipynb\" target=\"_parent\"><img src=\"https://colab.research.google.com/assets/colab-badge.svg\" alt=\"Open In Colab\"/></a>"
      ]
    },
    {
      "cell_type": "code",
      "execution_count": null,
      "metadata": {
        "id": "zL6TOtDNsxLp"
      },
      "outputs": [],
      "source": [
        "# 함수의 4가지 형태\n",
        "\n",
        "# 1 input 과 output 모두 있는 형태 (가장 많이 사용되는 형태)\n",
        "# 2 input 과 output 모두 없는 형태\n",
        "# 3 input 만 있는 형태\n",
        "# 4 output 만 있는 형태"
      ]
    },
    {
      "cell_type": "code",
      "source": [
        "# # 1 input 과 output 모두 있는 형태 (가장 많이 사용되는 형태)\n",
        "\n",
        "def add(a,b): # a와 b라는 입력\n",
        "  return a+b  # return 이라는 키워드가 있으면 output이 존재한다.\n",
        "\n",
        "print(add(1,4))"
      ],
      "metadata": {
        "colab": {
          "base_uri": "https://localhost:8080/"
        },
        "id": "YZuJ2TP5tK-o",
        "outputId": "18cb8334-e29a-431e-dcb7-a32070655488"
      },
      "execution_count": 2,
      "outputs": [
        {
          "output_type": "stream",
          "name": "stdout",
          "text": [
            "5\n"
          ]
        }
      ]
    },
    {
      "cell_type": "code",
      "source": [
        "# 2 input 과 output 모두 없는 형태\n",
        "\n",
        "def say ():        # 괄호안에 아무런 값이 없으면 input이 없는 것이다.\n",
        "  print(\"hello\")   # return 이라는 키워드가 없으면 output이 없는 것이다. 출력됐다고 output이 있는게 아니다.\n",
        "\n",
        "say()  "
      ],
      "metadata": {
        "colab": {
          "base_uri": "https://localhost:8080/"
        },
        "id": "u0gkUDeUtsze",
        "outputId": "fa6bdb00-d0f0-40cb-cf62-eccaa37f53a1"
      },
      "execution_count": 4,
      "outputs": [
        {
          "output_type": "stream",
          "name": "stdout",
          "text": [
            "hello\n"
          ]
        }
      ]
    },
    {
      "cell_type": "code",
      "source": [
        "# 3 input 만 있는 형태\n",
        "\n",
        "def inputonly(name):\n",
        "    print(name,\"님 환영합니다.\")  # return이 없으면 output이 없는 것이다.\n",
        "\n",
        "inputonly(\"홍길동\")    # 출력되는게 ouput 기능으로 하는게 아니라 찍는 기능으로 하는게 아니다."
      ],
      "metadata": {
        "colab": {
          "base_uri": "https://localhost:8080/"
        },
        "id": "oBPQnSxquUVI",
        "outputId": "3d16a7b9-f18e-4ae4-fb11-154165d30c66"
      },
      "execution_count": 5,
      "outputs": [
        {
          "output_type": "stream",
          "name": "stdout",
          "text": [
            "홍길동 님 환영합니다.\n"
          ]
        }
      ]
    },
    {
      "cell_type": "code",
      "source": [
        "# 4 output 만 있는 형태 (딸기 안넣었는데 딸기 주스가 나옴)\n",
        "\n",
        "def outputonly():\n",
        "    return \"Hello World\"\n",
        "\n",
        "outputonly()    "
      ],
      "metadata": {
        "colab": {
          "base_uri": "https://localhost:8080/",
          "height": 35
        },
        "id": "RRIrs7pJuziI",
        "outputId": "dafec27a-f143-421c-ae09-4ad91eabe803"
      },
      "execution_count": 7,
      "outputs": [
        {
          "output_type": "execute_result",
          "data": {
            "text/plain": [
              "'Hello World'"
            ],
            "application/vnd.google.colaboratory.intrinsic+json": {
              "type": "string"
            }
          },
          "metadata": {},
          "execution_count": 7
        }
      ]
    },
    {
      "cell_type": "code",
      "source": [
        "def sumfunction(a,b):\n",
        "     return a+b\n",
        "\n",
        "print(sumfunction(1,2))   \n",
        "\n",
        "def sumfunction(a,b,c):\n",
        "     return a+b+c\n",
        "\n",
        "print(sumfunction(1,2,3))     "
      ],
      "metadata": {
        "colab": {
          "base_uri": "https://localhost:8080/"
        },
        "id": "OUnB6vyTvl44",
        "outputId": "cd4f861d-0f5f-4f15-ac33-111868ad8637"
      },
      "execution_count": 13,
      "outputs": [
        {
          "output_type": "stream",
          "name": "stdout",
          "text": [
            "3\n",
            "6\n"
          ]
        }
      ]
    },
    {
      "cell_type": "code",
      "source": [
        "# 함수의 인수의 갯수가 일정하지 않을 경우 처리 방법 특징\n",
        "\n",
        "def sumfunction(*args):          # sumfunction 모두다 더해버리는 함수 # args는 몇개가 들어와도 됨\n",
        "     result=0\n",
        "     for i in args:  # args 자리에 개수만큼 하나씩 i로 던진다.\n",
        "         result=result+i\n",
        "     return result \n",
        "\n",
        "print(sumfunction(1,2))     \n",
        "print(sumfunction(1,2,3)) "
      ],
      "metadata": {
        "colab": {
          "base_uri": "https://localhost:8080/"
        },
        "id": "xEdnFbzBwOA3",
        "outputId": "5532d62f-2d3a-43ba-c30b-1abe2562974d"
      },
      "execution_count": 12,
      "outputs": [
        {
          "output_type": "stream",
          "name": "stdout",
          "text": [
            "3\n",
            "6\n"
          ]
        }
      ]
    },
    {
      "cell_type": "code",
      "source": [
        "# 함수의 결과 값은 언제나 '하나'라는 특징\n",
        "\n",
        "def add_mul(a,b):\n",
        "    return a+b, a*b\n",
        "\n",
        "print(add_mul(2,3))    # (5, 6) 2개가 아니라 하나의 튜플이다.\n",
        "\n",
        "res1, res2 = add_mul(2, 3)\n",
        "print(res1)\n",
        "print(res2)"
      ],
      "metadata": {
        "colab": {
          "base_uri": "https://localhost:8080/"
        },
        "id": "MxMstJAaxTR3",
        "outputId": "a8e102be-9acc-48c3-e95a-413924049781"
      },
      "execution_count": 16,
      "outputs": [
        {
          "output_type": "stream",
          "name": "stdout",
          "text": [
            "(5, 6)\n",
            "5\n",
            "6\n"
          ]
        }
      ]
    },
    {
      "cell_type": "code",
      "source": [
        "def add_mul(a,b):\n",
        "    return a+b\n",
        "    return a*b      # 곱하기 결과는 수행되지 않는다.\n",
        "                    # return을 만나면 함수에서 나간다는 특징이 있다.\n",
        "\n",
        "res=add_mul(2,3)\n",
        "print(res)    "
      ],
      "metadata": {
        "colab": {
          "base_uri": "https://localhost:8080/"
        },
        "id": "zKanyz2Dyc-A",
        "outputId": "ef95afff-4059-4422-dfbb-90a14ce9ccf3"
      },
      "execution_count": 18,
      "outputs": [
        {
          "output_type": "stream",
          "name": "stdout",
          "text": [
            "5\n"
          ]
        }
      ]
    },
    {
      "cell_type": "code",
      "source": [
        "# return의 마지막 특징\n",
        "\n",
        "def sayhello(name):\n",
        "    if name==\"austin\":\n",
        "        return\n",
        "    print(\"Hello\", name) \n",
        "\n",
        "    sayhello(\"nick\") \n",
        "    sayhello(\"austin\") \n",
        "    sayhello(\"jane\") "
      ],
      "metadata": {
        "id": "Z4ogVMFly_BJ"
      },
      "execution_count": 21,
      "outputs": []
    },
    {
      "cell_type": "code",
      "source": [
        "# 매개변수에 미리 초기값을 설정하는 특징\n",
        "\n",
        "def sayname(name, age, man=True):\n",
        "    print(\"내 이름은\", name, \"이고 나이는\", age, \"이며\", end=\" \")\n",
        "     if man:\n",
        "        print(\"남성입니다.\")\n",
        "     else:\n",
        "        print(\"여성입니다.\")   \n",
        "\n",
        "sayhello(\"홍길동\", 21)  # 성별 안넣으면 기본값 True로 반영됨\n",
        "sayhello(\"이몽룡\", 19, True)\n",
        "sayhello(\"성충향\", 13, False)       "
      ],
      "metadata": {
        "colab": {
          "base_uri": "https://localhost:8080/",
          "height": 136
        },
        "id": "x_9z1kE-3Awx",
        "outputId": "be144569-85fd-424a-a22e-2ee9b75d137e"
      },
      "execution_count": 28,
      "outputs": [
        {
          "output_type": "error",
          "ename": "IndentationError",
          "evalue": "ignored",
          "traceback": [
            "\u001b[0;36m  File \u001b[0;32m\"<ipython-input-28-7a8b9b0a985e>\"\u001b[0;36m, line \u001b[0;32m5\u001b[0m\n\u001b[0;31m    if man:\u001b[0m\n\u001b[0m    ^\u001b[0m\n\u001b[0;31mIndentationError\u001b[0m\u001b[0;31m:\u001b[0m unexpected indent\n"
          ]
        }
      ]
    },
    {
      "cell_type": "code",
      "source": [
        "def sayname(name, age, man=True):\n",
        "    print(f\"내 이름은 { }이고 나이는 { }이며\", end=\" \") # f는 string이라고 읽는다.\n",
        "     if man:\n",
        "        print(\"남성입니다.\")\n",
        "     else:\n",
        "        print(\"여성입니다.\")   \n",
        "\n",
        "sayhello(\"홍길동\",21)  # 성별 안넣으면 기본값 True로 반영됨\n",
        "sayhello(\"이몽룡\",19,True)\n",
        "sayhello(\"성충향\",13,False)       "
      ],
      "metadata": {
        "id": "4qLQO8Zx4WbR"
      },
      "execution_count": null,
      "outputs": []
    },
    {
      "cell_type": "code",
      "source": [
        "# f 스트링\n",
        "name=\"홍길동\"\n",
        "age=18\n",
        "print(f\"나의 이름은 {name}이고 나이는 {age}입니다.\")"
      ],
      "metadata": {
        "colab": {
          "base_uri": "https://localhost:8080/"
        },
        "id": "MtCCg3l54ur_",
        "outputId": "a870fda2-9c9f-4c00-f13a-c05c2a7c959a"
      },
      "execution_count": 27,
      "outputs": [
        {
          "output_type": "stream",
          "name": "stdout",
          "text": [
            "나의 이름은 홍길동이고 나이는 18입니다.\n"
          ]
        }
      ]
    },
    {
      "cell_type": "code",
      "source": [
        "# 함수 안에서의 변수 영향범위   - 전역변수/지역변수 global/Local variable # 지역변수를 많이 쓴다.\n",
        "\n",
        "a=1\n",
        "def varexam(a):\n",
        "    a+=1    # 함수 안에서의 변수값은 함수 밖에는 전혀 영향을 미치지 않는다. 여기 a랑 밑에 a는 다르다.\n",
        "\n",
        "varexam(a)\n",
        "print(a)    "
      ],
      "metadata": {
        "colab": {
          "base_uri": "https://localhost:8080/"
        },
        "id": "sIz_HZOC6VIA",
        "outputId": "4103f1e2-b682-428a-d51a-5f738dcbdf51"
      },
      "execution_count": 32,
      "outputs": [
        {
          "output_type": "stream",
          "name": "stdout",
          "text": [
            "1\n"
          ]
        }
      ]
    },
    {
      "cell_type": "code",
      "source": [
        "a=1\n",
        "def varexam(a):\n",
        "    a+=1    # 함수 안에서의 변수값은 함수 밖에는 전혀 영향을 미치지 않는다. 여기 a랑 밑에 a는 다르다. 하나를 증가시키고\n",
        "    return a # 가지고 나가!\n",
        "\n",
        "varexam(a) # a=2로 가지고 내려옴\n",
        "print(a) # 맨 위에 a=1로 가지고 온것임"
      ],
      "metadata": {
        "colab": {
          "base_uri": "https://localhost:8080/"
        },
        "id": "nIOoGN0U79qx",
        "outputId": "f47383b6-3c40-40c3-8877-f6598b8078d5"
      },
      "execution_count": 33,
      "outputs": [
        {
          "output_type": "stream",
          "name": "stdout",
          "text": [
            "1\n"
          ]
        }
      ]
    },
    {
      "cell_type": "code",
      "source": [
        "## 좋은 방법!!!\n",
        "\n",
        "a=1\n",
        "def varexam(a):\n",
        "    a+=1    # 함수 안에서의 변수값은 함수 밖에는 전혀 영향을 미치지 않는다. 여기 a랑 밑에 a는 다르다. 하나를 증가시키고\n",
        "    return a # 가지고 나가!\n",
        "\n",
        "print(varexam(a)) # a=2로 가지고 내려옴\n",
        "print(a) # 맨 위에 a=1로 가지고 온것임"
      ],
      "metadata": {
        "colab": {
          "base_uri": "https://localhost:8080/"
        },
        "id": "gvJ-oW2p8bn-",
        "outputId": "0b25cac3-d222-4124-a267-f9a40e578144"
      },
      "execution_count": 34,
      "outputs": [
        {
          "output_type": "stream",
          "name": "stdout",
          "text": [
            "2\n",
            "1\n"
          ]
        }
      ]
    },
    {
      "cell_type": "code",
      "source": [
        "# 좋은 방법은 아니다... 비추!!!\n",
        "\n",
        "a=1\n",
        "def varexam():\n",
        "    global a # 변수 a를 함수 안에서 선언하면 전역(전체에 다 미친다.) 변수가 된다.   \n",
        "    a=a+1\n",
        "\n",
        "varexam()\n",
        "print(a) \n",
        "\n"
      ],
      "metadata": {
        "colab": {
          "base_uri": "https://localhost:8080/"
        },
        "id": "UwhzhHMz8hcw",
        "outputId": "c5a1cec6-53ea-4180-8297-89383b5b9cae"
      },
      "execution_count": 35,
      "outputs": [
        {
          "output_type": "stream",
          "name": "stdout",
          "text": [
            "2\n"
          ]
        }
      ]
    },
    {
      "cell_type": "code",
      "source": [
        "a=1\n",
        "def varexam(b):\n",
        "    b+=1    # 함수 안에서의 변수값은 함수 밖에는 전혀 영향을 미치지 않는다. 여기 a랑 밑에 a는 다르다. 하나를 증가시키고\n",
        "    return b # 가지고 나가!\n",
        "\n",
        "print(varexam(a))\n",
        "print(a)"
      ],
      "metadata": {
        "colab": {
          "base_uri": "https://localhost:8080/"
        },
        "id": "KbU7D8sP9Tmo",
        "outputId": "c0b64982-b2ba-441e-f160-807faf5a63f3"
      },
      "execution_count": 36,
      "outputs": [
        {
          "output_type": "stream",
          "name": "stdout",
          "text": [
            "2\n",
            "1\n"
          ]
        }
      ]
    },
    {
      "cell_type": "code",
      "source": [
        "# 주어진 자연수가 홀수인지 짝수인지 판별해주는 함수(is_odd)를 작성해보자.\n",
        "\n",
        "#isodd(3)\n",
        "#홀수입니다.\n",
        "#isodd(4)\n",
        "#짝수입니다.\n",
        "\n",
        "def isodd(no):\n",
        "    if no%2==0:\n",
        "       print(\"짝수입니다.\")\n",
        "    else:\n",
        "       print(\"홀수입니다.\")\n",
        "\n",
        "  isodd(3)\n",
        "  isodd(4)      \n"
      ],
      "metadata": {
        "colab": {
          "base_uri": "https://localhost:8080/",
          "height": 136
        },
        "id": "qDZuRPBL9oJQ",
        "outputId": "d649cbfd-946c-4988-e629-448840566f32"
      },
      "execution_count": 45,
      "outputs": [
        {
          "output_type": "error",
          "ename": "IndentationError",
          "evalue": "ignored",
          "traceback": [
            "\u001b[0;36m  File \u001b[0;32m\"<tokenize>\"\u001b[0;36m, line \u001b[0;32m14\u001b[0m\n\u001b[0;31m    isodd(3)\u001b[0m\n\u001b[0m    ^\u001b[0m\n\u001b[0;31mIndentationError\u001b[0m\u001b[0;31m:\u001b[0m unindent does not match any outer indentation level\n"
          ]
        }
      ]
    },
    {
      "cell_type": "code",
      "source": [
        "def sumfunction(*args):          # sumfunction 모두다 더해버리는 함수 # args는 몇개가 들어와도 됨\n",
        "     result=0\n",
        "     for i in args:  # args 자리에 개수만큼 하나씩 i로 던진다.\n",
        "         result=result+i\n",
        "     return result \n",
        "\n",
        "print(sumfunction(1,2))     \n",
        "print(sumfunction(1,2,3))"
      ],
      "metadata": {
        "colab": {
          "base_uri": "https://localhost:8080/"
        },
        "id": "etexGKAL-gK1",
        "outputId": "b7d13a62-6dda-472c-8100-15b27a407a0e"
      },
      "execution_count": 71,
      "outputs": [
        {
          "output_type": "stream",
          "name": "stdout",
          "text": [
            "1.5\n",
            "2.0\n"
          ]
        }
      ]
    },
    {
      "cell_type": "code",
      "source": [
        "def avgnum(*args):\n",
        "    sum=0\n",
        "    for i in args:\n",
        "        sum += i\n",
        "    return sum/len(args)\n",
        "\n",
        "print(avgnum(1,2,3))\n",
        "print(avgnum(1,2,3,4,5))"
      ],
      "metadata": {
        "colab": {
          "base_uri": "https://localhost:8080/"
        },
        "id": "ioXd28azFqv5",
        "outputId": "62b82258-c387-4cf2-d08f-c82dd00b1bc9"
      },
      "execution_count": 89,
      "outputs": [
        {
          "output_type": "stream",
          "name": "stdout",
          "text": [
            "2.0\n",
            "3.0\n"
          ]
        }
      ]
    },
    {
      "cell_type": "code",
      "source": [
        "# 새로운 txt 파일 만들기\n",
        "# \n",
        "\n",
        "f=open(\"newfile.txt\",\"w\")\n",
        "f.close()\n"
      ],
      "metadata": {
        "id": "S0XVC96HRYYh"
      },
      "execution_count": 90,
      "outputs": []
    },
    {
      "cell_type": "code",
      "source": [
        "# 파일에 내용 넣기\n",
        "f=open(\"newfile.txt\",\"w\")   # 새 파일 만들기\n",
        "\n",
        "for i in range(1, 11):      # 파일에 여러 데이터 넣기\n",
        "    data=\"%d line \\n\" % i\n",
        "    f.write(data)\n",
        "\n",
        "f.close()                   # 파일 닫기"
      ],
      "metadata": {
        "id": "4nO1ePxvSoX4"
      },
      "execution_count": 95,
      "outputs": []
    },
    {
      "cell_type": "code",
      "source": [
        "f=open(\"newfile2.txt\",\"r\")  # 나는 실제 new파일이 없음.. 그래서 오류난 것임..\n",
        "\n",
        "while True:\n",
        "     line=f.readline()\n",
        "     if not line: break\n",
        "     print(line)"
      ],
      "metadata": {
        "colab": {
          "base_uri": "https://localhost:8080/",
          "height": 245
        },
        "id": "Fofh1DRVT3GS",
        "outputId": "89768e53-107b-4bda-8c0d-88ffcc9dfd6f"
      },
      "execution_count": 97,
      "outputs": [
        {
          "output_type": "error",
          "ename": "FileNotFoundError",
          "evalue": "ignored",
          "traceback": [
            "\u001b[0;31m---------------------------------------------------------------------------\u001b[0m",
            "\u001b[0;31mFileNotFoundError\u001b[0m                         Traceback (most recent call last)",
            "\u001b[0;32m<ipython-input-97-95ea43f1a086>\u001b[0m in \u001b[0;36m<module>\u001b[0;34m\u001b[0m\n\u001b[0;32m----> 1\u001b[0;31m \u001b[0mf\u001b[0m\u001b[0;34m=\u001b[0m\u001b[0mopen\u001b[0m\u001b[0;34m(\u001b[0m\u001b[0;34m\"newfile2.txt\"\u001b[0m\u001b[0;34m,\u001b[0m\u001b[0;34m\"r\"\u001b[0m\u001b[0;34m)\u001b[0m\u001b[0;34m\u001b[0m\u001b[0;34m\u001b[0m\u001b[0m\n\u001b[0m\u001b[1;32m      2\u001b[0m \u001b[0;34m\u001b[0m\u001b[0m\n\u001b[1;32m      3\u001b[0m \u001b[0;32mwhile\u001b[0m \u001b[0;32mTrue\u001b[0m\u001b[0;34m:\u001b[0m\u001b[0;34m\u001b[0m\u001b[0;34m\u001b[0m\u001b[0m\n\u001b[1;32m      4\u001b[0m      \u001b[0mline\u001b[0m\u001b[0;34m=\u001b[0m\u001b[0mf\u001b[0m\u001b[0;34m.\u001b[0m\u001b[0mreadline\u001b[0m\u001b[0;34m(\u001b[0m\u001b[0;34m)\u001b[0m\u001b[0;34m\u001b[0m\u001b[0;34m\u001b[0m\u001b[0m\n\u001b[1;32m      5\u001b[0m      \u001b[0;32mif\u001b[0m \u001b[0;32mnot\u001b[0m \u001b[0mline\u001b[0m\u001b[0;34m:\u001b[0m \u001b[0;32mbreak\u001b[0m\u001b[0;34m\u001b[0m\u001b[0;34m\u001b[0m\u001b[0m\n",
            "\u001b[0;31mFileNotFoundError\u001b[0m: [Errno 2] No such file or directory: 'newfile2.txt'"
          ]
        }
      ]
    },
    {
      "cell_type": "code",
      "source": [
        "# OOP\n",
        "\n",
        "result=0\n",
        "\n",
        "def add(num):\n",
        "    global result\n",
        "    result += num\n",
        "    return result\n",
        "\n",
        "print(add(3))\n",
        "print(add(2))"
      ],
      "metadata": {
        "colab": {
          "base_uri": "https://localhost:8080/"
        },
        "id": "Dp5eVfjuXOcS",
        "outputId": "91a7e105-2dec-4cc5-ef33-7c70401a8d0f"
      },
      "execution_count": 100,
      "outputs": [
        {
          "output_type": "stream",
          "name": "stdout",
          "text": [
            "3\n",
            "5\n"
          ]
        }
      ]
    },
    {
      "cell_type": "code",
      "source": [
        "result1=0\n",
        "result2=0\n",
        "\n",
        "def add1(num):   # 계산기 1\n",
        "    global result1\n",
        "    result1 += num\n",
        "    return result1\n",
        "\n",
        "def add2(num):    # 계산기 2\n",
        "     global result2\n",
        "     result2 += num\n",
        "     return result2\n",
        "\n",
        "print(add1(3))\n",
        "print(add1(2))\n",
        "print(add2(1))\n",
        "print(add2(2))"
      ],
      "metadata": {
        "colab": {
          "base_uri": "https://localhost:8080/"
        },
        "id": "ww-cXrfeYGZY",
        "outputId": "b0e31b14-1a92-4dca-b8ae-45192a76f2fb"
      },
      "execution_count": 107,
      "outputs": [
        {
          "output_type": "stream",
          "name": "stdout",
          "text": [
            "3\n",
            "5\n",
            "1\n",
            "3\n"
          ]
        }
      ]
    },
    {
      "cell_type": "code",
      "source": [
        "class Cal:\n",
        "\n",
        "def __init__(self):                             # 생성자\n",
        "    self.result=0                              # 더블언더바(덤더)\n",
        "\n",
        "def add(self,num):                           # 매서드(함수가 아닌 매서드)\n",
        "    self.result+=num\n",
        "    return self.result\n",
        "\n",
        "  cal1=Cal()\n",
        "  cal2=Cal()\n",
        "  cal3=Cal()  \n",
        "\n",
        "print(cal1.add(3)) \n",
        "print(cal1.add(2)) \n",
        "print()\n",
        "print(cal2.add(1)) \n",
        "print(cal2.add(2)) \n",
        "print()\n",
        "print(cal3.add(1)) \n",
        "print(cal3.add(2)) \n",
        "print(cal3.add(3)) "
      ],
      "metadata": {
        "colab": {
          "base_uri": "https://localhost:8080/",
          "height": 136
        },
        "id": "8YTBxvLTZB-R",
        "outputId": "6e3bc2ae-eec3-45be-a204-310b839222ff"
      },
      "execution_count": 123,
      "outputs": [
        {
          "output_type": "error",
          "ename": "IndentationError",
          "evalue": "ignored",
          "traceback": [
            "\u001b[0;36m  File \u001b[0;32m\"<tokenize>\"\u001b[0;36m, line \u001b[0;32m10\u001b[0m\n\u001b[0;31m    cal1=Cal()\u001b[0m\n\u001b[0m    ^\u001b[0m\n\u001b[0;31mIndentationError\u001b[0m\u001b[0;31m:\u001b[0m unindent does not match any outer indentation level\n"
          ]
        }
      ]
    },
    {
      "cell_type": "code",
      "source": [
        "class Cal:\n",
        "\n",
        "def __init__(self):                             # 생성자\n",
        "    self.result=0                              # 더블언더바(덤더)\n",
        "\n",
        "def add(self,num):                           # 매서드(함수가 아닌 매서드)\n",
        "    self.result+=num\n",
        "    return self.result\n",
        "\n",
        "def mul(self,num):                           # 매서드(함수가 아닌 매서드)\n",
        "    self.result*=num\n",
        "    return self.result\n",
        "\n",
        "  cal1=Cal()\n",
        "  cal2=Cal()\n",
        "  cal3=Cal()  \n",
        "\n",
        "print(cal1.add(3)) \n",
        "print(cal1.add(2)) \n",
        "print()\n",
        "print(cal2.add(1)) \n",
        "print(cal2.add(2)) \n",
        "print()\n",
        "print(cal3.add(1)) \n",
        "print(cal3.add(2)) \n",
        "print(cal3.add(3)) "
      ],
      "metadata": {
        "colab": {
          "base_uri": "https://localhost:8080/",
          "height": 136
        },
        "id": "jPWk8XMFbu0T",
        "outputId": "6ac59ac0-530a-4a80-c426-c828e7986ec8"
      },
      "execution_count": 125,
      "outputs": [
        {
          "output_type": "error",
          "ename": "IndentationError",
          "evalue": "ignored",
          "traceback": [
            "\u001b[0;36m  File \u001b[0;32m\"<tokenize>\"\u001b[0;36m, line \u001b[0;32m14\u001b[0m\n\u001b[0;31m    cal1=Cal()\u001b[0m\n\u001b[0m    ^\u001b[0m\n\u001b[0;31mIndentationError\u001b[0m\u001b[0;31m:\u001b[0m unindent does not match any outer indentation level\n"
          ]
        }
      ]
    },
    {
      "cell_type": "code",
      "source": [
        "class Cal:\n",
        "  def add(self,first,second):\n",
        "    result=first+second\n",
        "    return result\n",
        "cal1=Cal()\n",
        "print(cal1.add(1,2))"
      ],
      "metadata": {
        "colab": {
          "base_uri": "https://localhost:8080/"
        },
        "id": "wAGDF-4-epYr",
        "outputId": "da5c56ca-81f1-4c0f-83e5-c4a720cff871"
      },
      "execution_count": 126,
      "outputs": [
        {
          "output_type": "stream",
          "name": "stdout",
          "text": [
            "3\n"
          ]
        }
      ]
    },
    {
      "cell_type": "code",
      "source": [
        "class Cal:\n",
        "  def add(self,first,second):\n",
        "    result=first+second\n",
        "    return result\n",
        "\n",
        "cal1=Cal()\n",
        "cal2=Cal()\n",
        "\n",
        "print(cal1.add(1,2))\n",
        "print(cal2.add(2,3))"
      ],
      "metadata": {
        "colab": {
          "base_uri": "https://localhost:8080/"
        },
        "id": "HiFfpEBRgYFa",
        "outputId": "fe61b177-d39c-4c38-a1d3-fd0159c38845"
      },
      "execution_count": 129,
      "outputs": [
        {
          "output_type": "stream",
          "name": "stdout",
          "text": [
            "3\n",
            "5\n"
          ]
        }
      ]
    },
    {
      "cell_type": "code",
      "source": [
        "class Cal:\n",
        "  def add(self,first,second):\n",
        "    result=first+second\n",
        "    return result\n",
        "\n",
        "  def mul(self,first,second):\n",
        "    result=first*second\n",
        "    return result\n",
        "\n",
        "cal1=Cal()\n",
        "cal2=Cal()\n",
        "\n",
        "print(cal1.add(1,2))\n",
        "print(cal2.add(2,3))\n",
        "\n",
        "print(cal1.mul(1,2))\n",
        "print(cal2.mul(2,3))"
      ],
      "metadata": {
        "colab": {
          "base_uri": "https://localhost:8080/"
        },
        "id": "Yaf4YjDOgv_y",
        "outputId": "28750f97-e3cb-4e1c-8c7c-34a3e28bd507"
      },
      "execution_count": 128,
      "outputs": [
        {
          "output_type": "stream",
          "name": "stdout",
          "text": [
            "3\n",
            "5\n",
            "2\n",
            "6\n"
          ]
        }
      ]
    },
    {
      "cell_type": "code",
      "source": [
        "class Cal:\n",
        "\n",
        "  def setdata(self,first,second):\n",
        "      self.first=first\n",
        "      self.second=second\n",
        "\n",
        "  def add(self,first,second):\n",
        "    result=first+second\n",
        "    return result\n",
        "\n",
        "  def mul(self,first,second):\n",
        "    result=first*second\n",
        "    return result\n",
        "\n",
        "cal1=Cal()\n",
        "cal1.setdata(1,2)\n",
        "\n",
        "print(cal1.first)\n",
        "print(cal1.second)\n"
      ],
      "metadata": {
        "colab": {
          "base_uri": "https://localhost:8080/"
        },
        "id": "HwcSje_rhFhK",
        "outputId": "8861789d-9da3-4b57-eefe-fd598728941e"
      },
      "execution_count": 132,
      "outputs": [
        {
          "output_type": "stream",
          "name": "stdout",
          "text": [
            "1\n",
            "2\n"
          ]
        }
      ]
    },
    {
      "cell_type": "code",
      "source": [
        "class Cal:\n",
        "\n",
        "  def setdata(self,first,second):\n",
        "      self.first=first\n",
        "      self.second=second\n",
        "\n",
        "  def add(self,first,second):\n",
        "    result=first+second\n",
        "    return result\n",
        "\n",
        "  def mul(self,first,second):\n",
        "    result=first*second\n",
        "    return result\n",
        "\n",
        "cal2=Cal()\n",
        "cal2.setdata(3,4)\n",
        "\n",
        "print(cal2.first)\n",
        "print(cal2.second)"
      ],
      "metadata": {
        "colab": {
          "base_uri": "https://localhost:8080/"
        },
        "id": "ZAZ9KZJRh9DK",
        "outputId": "deafee45-802c-4409-b18d-aef1d37a9abe"
      },
      "execution_count": 134,
      "outputs": [
        {
          "output_type": "stream",
          "name": "stdout",
          "text": [
            "3\n",
            "4\n"
          ]
        }
      ]
    },
    {
      "cell_type": "code",
      "source": [
        "class Cal:\n",
        "\n",
        "  def setdata(self,first,second):\n",
        "      self.first=first\n",
        "      self.second=second\n",
        "\n",
        "  def add(self):\n",
        "    result=self.first+self.second\n",
        "    return result\n",
        "\n",
        "  def mul(self):\n",
        "    result=self.first*self.second\n",
        "    return result\n",
        "\n",
        "cal1=Cal()\n",
        "cal1.setdata(1,2)\n",
        "print(cal1.add())\n",
        "print(cal1.mul())\n",
        "cal2=Cal()\n",
        "cal2.setdata(3,4)\n",
        "print(cal2.add())\n",
        "print(cal2.mul())"
      ],
      "metadata": {
        "colab": {
          "base_uri": "https://localhost:8080/"
        },
        "id": "nJq67jPhiTGt",
        "outputId": "50d01197-7bcd-45bf-a119-77004d63b207"
      },
      "execution_count": 136,
      "outputs": [
        {
          "output_type": "stream",
          "name": "stdout",
          "text": [
            "3\n",
            "2\n",
            "7\n",
            "12\n"
          ]
        }
      ]
    },
    {
      "cell_type": "code",
      "source": [
        "# 생성자 Constructor\n",
        "\n",
        "class Cal:\n",
        "\n",
        "  def __int__(self, first, second):       # int 생성자\n",
        "      pass\n",
        "\n",
        "  def setdata(self,first,second):       # 매서드\n",
        "      self.first=first\n",
        "      self.second=second\n",
        "\n",
        "  def add(self):\n",
        "    result=self.first+self.second\n",
        "    return result\n",
        "\n",
        "  def mul(self):\n",
        "    result=self.first*self.second\n",
        "    return result\n",
        "\n",
        "cal1=Cal(1,2)\n",
        "#cal1.setdata(1,2)\n",
        "print(cal1.add())\n",
        "print(cal1.mul())\n",
        "cal2=Cal(3,4)\n",
        "#cal2.setdata(3,4)\n",
        "print(cal2.add())\n",
        "print(cal2.mul())"
      ],
      "metadata": {
        "colab": {
          "base_uri": "https://localhost:8080/",
          "height": 245
        },
        "id": "3J8PLB0ojMgp",
        "outputId": "503df410-96ea-49f9-f34b-fdacca6c6944"
      },
      "execution_count": 139,
      "outputs": [
        {
          "output_type": "error",
          "ename": "TypeError",
          "evalue": "ignored",
          "traceback": [
            "\u001b[0;31m---------------------------------------------------------------------------\u001b[0m",
            "\u001b[0;31mTypeError\u001b[0m                                 Traceback (most recent call last)",
            "\u001b[0;32m<ipython-input-139-b77b95d176ae>\u001b[0m in \u001b[0;36m<module>\u001b[0;34m\u001b[0m\n\u001b[1;32m     18\u001b[0m     \u001b[0;32mreturn\u001b[0m \u001b[0mresult\u001b[0m\u001b[0;34m\u001b[0m\u001b[0;34m\u001b[0m\u001b[0m\n\u001b[1;32m     19\u001b[0m \u001b[0;34m\u001b[0m\u001b[0m\n\u001b[0;32m---> 20\u001b[0;31m \u001b[0mcal1\u001b[0m\u001b[0;34m=\u001b[0m\u001b[0mCal\u001b[0m\u001b[0;34m(\u001b[0m\u001b[0;36m1\u001b[0m\u001b[0;34m,\u001b[0m\u001b[0;36m2\u001b[0m\u001b[0;34m)\u001b[0m\u001b[0;34m\u001b[0m\u001b[0;34m\u001b[0m\u001b[0m\n\u001b[0m\u001b[1;32m     21\u001b[0m \u001b[0;31m#cal1.setdata(1,2)\u001b[0m\u001b[0;34m\u001b[0m\u001b[0;34m\u001b[0m\u001b[0;34m\u001b[0m\u001b[0m\n\u001b[1;32m     22\u001b[0m \u001b[0mprint\u001b[0m\u001b[0;34m(\u001b[0m\u001b[0mcal1\u001b[0m\u001b[0;34m.\u001b[0m\u001b[0madd\u001b[0m\u001b[0;34m(\u001b[0m\u001b[0;34m)\u001b[0m\u001b[0;34m)\u001b[0m\u001b[0;34m\u001b[0m\u001b[0;34m\u001b[0m\u001b[0m\n",
            "\u001b[0;31mTypeError\u001b[0m: Cal() takes no arguments"
          ]
        }
      ]
    },
    {
      "cell_type": "code",
      "source": [
        "# 상속\n",
        "class Cal:\n",
        "\n",
        "  def __int__(self, first, second):       # int 생성자\n",
        "      pass\n",
        "\n",
        "  def setdata(self,first,second):       # 매서드\n",
        "      self.first=first\n",
        "      self.second=second\n",
        "\n",
        "  def add(self):\n",
        "    result=self.first+self.second\n",
        "    return result\n",
        "\n",
        "  def mul(self):\n",
        "    result=self.first*self.second\n",
        "    return result\n",
        "\n",
        "class MoreCal(Cal): # 위 기능들이 그대로 내려온다.\n",
        "  def sub(self):\n",
        "    result=self.first-self.second\n",
        "    return result\n",
        "\n",
        "cal3=MoreCal(3,2)\n",
        "#cal3.add()\n",
        "cal3.sub()\n",
        "\n",
        "cal4=Cal(2,1)\n",
        "cal4.add()\n",
        "cal4.sub()"
      ],
      "metadata": {
        "colab": {
          "base_uri": "https://localhost:8080/",
          "height": 245
        },
        "id": "ktoFcFczmoMk",
        "outputId": "2b747844-fd98-4e3d-f021-79aa331cece1"
      },
      "execution_count": 145,
      "outputs": [
        {
          "output_type": "error",
          "ename": "TypeError",
          "evalue": "ignored",
          "traceback": [
            "\u001b[0;31m---------------------------------------------------------------------------\u001b[0m",
            "\u001b[0;31mTypeError\u001b[0m                                 Traceback (most recent call last)",
            "\u001b[0;32m<ipython-input-145-4f06187ea882>\u001b[0m in \u001b[0;36m<module>\u001b[0;34m\u001b[0m\n\u001b[1;32m     22\u001b[0m     \u001b[0;32mreturn\u001b[0m \u001b[0mresult\u001b[0m\u001b[0;34m\u001b[0m\u001b[0;34m\u001b[0m\u001b[0m\n\u001b[1;32m     23\u001b[0m \u001b[0;34m\u001b[0m\u001b[0m\n\u001b[0;32m---> 24\u001b[0;31m \u001b[0mcal3\u001b[0m\u001b[0;34m=\u001b[0m\u001b[0mMoreCal\u001b[0m\u001b[0;34m(\u001b[0m\u001b[0;36m3\u001b[0m\u001b[0;34m,\u001b[0m\u001b[0;36m2\u001b[0m\u001b[0;34m)\u001b[0m\u001b[0;34m\u001b[0m\u001b[0;34m\u001b[0m\u001b[0m\n\u001b[0m\u001b[1;32m     25\u001b[0m \u001b[0;31m#cal3.add()\u001b[0m\u001b[0;34m\u001b[0m\u001b[0;34m\u001b[0m\u001b[0;34m\u001b[0m\u001b[0m\n\u001b[1;32m     26\u001b[0m \u001b[0mcal3\u001b[0m\u001b[0;34m.\u001b[0m\u001b[0msub\u001b[0m\u001b[0;34m(\u001b[0m\u001b[0;34m)\u001b[0m\u001b[0;34m\u001b[0m\u001b[0;34m\u001b[0m\u001b[0m\n",
            "\u001b[0;31mTypeError\u001b[0m: MoreCal() takes no arguments"
          ]
        }
      ]
    },
    {
      "cell_type": "code",
      "source": [
        "class Cal:\n",
        "\n",
        "  def __int__(self, first, second):       # int 생성자\n",
        "      pass\n",
        "\n",
        "  def setdata(self,first,second):       # 매서드\n",
        "      self.first=first\n",
        "      self.second=second\n",
        "\n",
        "  def add(self):\n",
        "    result=self.first+self.second\n",
        "    return result\n",
        "\n",
        "  def mul(self):\n",
        "    result=self.first*self.second\n",
        "    return result\n",
        "\n",
        "  def div(self):\n",
        "    result=self.first*self.second\n",
        "    return result\n",
        "\n",
        "class MoreCal(Cal): # 위 기능들이 그대로 내려온다.\n",
        "  def sub(self):\n",
        "    result=self.first-self.second\n",
        "    return result\n",
        "\n",
        "  def div(self):\n",
        "    if self.second==0:\n",
        "         return \"계산 불가입니다.\"\n",
        "    else:\n",
        "    result=self.first/self.second\n",
        "    return result\n",
        "\n",
        "cal5=Cal(2,2)\n",
        "# cal3.add()\n",
        "cal3.div()\n"
      ],
      "metadata": {
        "colab": {
          "base_uri": "https://localhost:8080/",
          "height": 136
        },
        "id": "YreC5WsCs_r7",
        "outputId": "6ad10604-5cd7-4c49-d67f-c88bd323ab54"
      },
      "execution_count": 151,
      "outputs": [
        {
          "output_type": "error",
          "ename": "IndentationError",
          "evalue": "ignored",
          "traceback": [
            "\u001b[0;36m  File \u001b[0;32m\"<ipython-input-151-3f51b8974548>\"\u001b[0;36m, line \u001b[0;32m31\u001b[0m\n\u001b[0;31m    result=self.first/self.second\u001b[0m\n\u001b[0m         ^\u001b[0m\n\u001b[0;31mIndentationError\u001b[0m\u001b[0;31m:\u001b[0m expected an indented block\n"
          ]
        }
      ]
    },
    {
      "cell_type": "code",
      "source": [
        "# method overloading\n",
        "\n",
        "class Cal():\n",
        "    def add(a,b):\n",
        "        return a+b\n",
        "    def add(a,b,c):\n",
        "        return a+b+c\n",
        "    def add(a,b,c,d):\n",
        "        return a+b+c+d\n",
        "\n",
        "cal1 = Cal()\n",
        "\n",
        "print(cal1.add(1,2))\n",
        "print(cal1.add(1,2,3))\n",
        "print(cal1.add(1,2,3,4))"
      ],
      "metadata": {
        "colab": {
          "base_uri": "https://localhost:8080/",
          "height": 245
        },
        "id": "2mQ7fgQ_uZRM",
        "outputId": "6dbdcf47-4ba6-499b-f783-a9ec1b20cb4d"
      },
      "execution_count": 152,
      "outputs": [
        {
          "output_type": "error",
          "ename": "TypeError",
          "evalue": "ignored",
          "traceback": [
            "\u001b[0;31m---------------------------------------------------------------------------\u001b[0m",
            "\u001b[0;31mTypeError\u001b[0m                                 Traceback (most recent call last)",
            "\u001b[0;32m<ipython-input-152-5eb1c533e94f>\u001b[0m in \u001b[0;36m<module>\u001b[0;34m\u001b[0m\n\u001b[1;32m     11\u001b[0m \u001b[0mcal1\u001b[0m \u001b[0;34m=\u001b[0m \u001b[0mCal\u001b[0m\u001b[0;34m(\u001b[0m\u001b[0;34m)\u001b[0m\u001b[0;34m\u001b[0m\u001b[0;34m\u001b[0m\u001b[0m\n\u001b[1;32m     12\u001b[0m \u001b[0;34m\u001b[0m\u001b[0m\n\u001b[0;32m---> 13\u001b[0;31m \u001b[0mprint\u001b[0m\u001b[0;34m(\u001b[0m\u001b[0mcal1\u001b[0m\u001b[0;34m.\u001b[0m\u001b[0madd\u001b[0m\u001b[0;34m(\u001b[0m\u001b[0;36m1\u001b[0m\u001b[0;34m,\u001b[0m\u001b[0;36m2\u001b[0m\u001b[0;34m)\u001b[0m\u001b[0;34m)\u001b[0m\u001b[0;34m\u001b[0m\u001b[0;34m\u001b[0m\u001b[0m\n\u001b[0m\u001b[1;32m     14\u001b[0m \u001b[0mprint\u001b[0m\u001b[0;34m(\u001b[0m\u001b[0mcal1\u001b[0m\u001b[0;34m.\u001b[0m\u001b[0madd\u001b[0m\u001b[0;34m(\u001b[0m\u001b[0;36m1\u001b[0m\u001b[0;34m,\u001b[0m\u001b[0;36m2\u001b[0m\u001b[0;34m,\u001b[0m\u001b[0;36m3\u001b[0m\u001b[0;34m)\u001b[0m\u001b[0;34m)\u001b[0m\u001b[0;34m\u001b[0m\u001b[0;34m\u001b[0m\u001b[0m\n\u001b[1;32m     15\u001b[0m \u001b[0mprint\u001b[0m\u001b[0;34m(\u001b[0m\u001b[0mcal1\u001b[0m\u001b[0;34m.\u001b[0m\u001b[0madd\u001b[0m\u001b[0;34m(\u001b[0m\u001b[0;36m1\u001b[0m\u001b[0;34m,\u001b[0m\u001b[0;36m2\u001b[0m\u001b[0;34m,\u001b[0m\u001b[0;36m3\u001b[0m\u001b[0;34m,\u001b[0m\u001b[0;36m4\u001b[0m\u001b[0;34m)\u001b[0m\u001b[0;34m)\u001b[0m\u001b[0;34m\u001b[0m\u001b[0;34m\u001b[0m\u001b[0m\n",
            "\u001b[0;31mTypeError\u001b[0m: add() missing 1 required positional argument: 'd'"
          ]
        }
      ]
    },
    {
      "cell_type": "code",
      "source": [
        "\n",
        "try:\n",
        "   4/0\n",
        "except:\n",
        "   print(\"에러가 발생했습니다.\")"
      ],
      "metadata": {
        "colab": {
          "base_uri": "https://localhost:8080/"
        },
        "id": "aRiRsLc-wmt8",
        "outputId": "a6ae8ed3-36c4-4cc4-9011-083a0a120e5a"
      },
      "execution_count": 158,
      "outputs": [
        {
          "output_type": "stream",
          "name": "stdout",
          "text": [
            "에러가 발생했습니다.\n"
          ]
        }
      ]
    },
    {
      "cell_type": "code",
      "source": [
        "try:\n",
        "   4/0                               # 에러발생 안하면 그냥 아무것도 출력되지 않음\n",
        "except:\n",
        "   print(\"에러가 발생했습니다.\")     # 에러발생시에만\n",
        "finally:\n",
        "   print(\"프로그램을 종료합니다.\")   # 에러발생 유무와 상관없이 항상 마지막에 실행"
      ],
      "metadata": {
        "colab": {
          "base_uri": "https://localhost:8080/"
        },
        "id": "ajNK_-E0xtqD",
        "outputId": "269bbe11-50cb-486a-ee0e-8314d7c8930a"
      },
      "execution_count": 161,
      "outputs": [
        {
          "output_type": "stream",
          "name": "stdout",
          "text": [
            "에러가 발생했습니다.\n",
            "프로그램을 종료합니다.\n"
          ]
        }
      ]
    },
    {
      "cell_type": "code",
      "source": [
        "# 여러 예외 처리\n",
        "\n",
        "try:\n",
        "    a=[1,2]\n",
        "    print(a[2])  # 위에서부터 순서대로 에러가 터지는 순간 다음건 실행도 안해봄..\n",
        "    print(4/2)\n",
        "except:\n",
        "    print(\"예외가 발생되었습니다.\")    "
      ],
      "metadata": {
        "colab": {
          "base_uri": "https://localhost:8080/"
        },
        "id": "TYEpy6GlyLnc",
        "outputId": "56840a6a-d69c-4e58-f91b-e0fa2b135c98"
      },
      "execution_count": 166,
      "outputs": [
        {
          "output_type": "stream",
          "name": "stdout",
          "text": [
            "예외가 발생되었습니다.\n"
          ]
        }
      ]
    },
    {
      "cell_type": "code",
      "source": [
        "  a=[1,2]\n",
        "    print(a[2])  # 위에서부터 순서대로 에러가 터지는 순간 다음건 실행도 안해봄..\n",
        "    print(4/2)"
      ],
      "metadata": {
        "colab": {
          "base_uri": "https://localhost:8080/",
          "height": 136
        },
        "id": "H88zZqmFzjSL",
        "outputId": "633e0638-29cd-4ce3-fd42-d752b12da668"
      },
      "execution_count": 167,
      "outputs": [
        {
          "output_type": "error",
          "ename": "IndentationError",
          "evalue": "ignored",
          "traceback": [
            "\u001b[0;36m  File \u001b[0;32m\"<ipython-input-167-55692fe1d51d>\"\u001b[0;36m, line \u001b[0;32m2\u001b[0m\n\u001b[0;31m    print(a[2])  # 위에서부터 순서대로 에러가 터지는 순간 다음건 실행도 안해봄..\u001b[0m\n\u001b[0m    ^\u001b[0m\n\u001b[0;31mIndentationError\u001b[0m\u001b[0;31m:\u001b[0m unexpected indent\n"
          ]
        }
      ]
    },
    {
      "cell_type": "code",
      "source": [
        "# 여러 예외 처리\n",
        "\n",
        "try:\n",
        "    a=[1,2]\n",
        "    print(a[2])  # 위에서부터 순서대로 에러가 터지는 순간 다음건 실행도 안해봄..\n",
        "    print(4/2)\n",
        "except ZeroDivisionError:\n",
        "    print(\"0으로 나누면 예외가 발생되었습니다.\")    \n",
        "except IndexError:\n",
        "    print(\"찾으시는 인덱스가 없습니다.\")   "
      ],
      "metadata": {
        "colab": {
          "base_uri": "https://localhost:8080/"
        },
        "id": "8Z3hv-d8z8Vj",
        "outputId": "20245440-b84b-4c3a-c521-3e39430eed52"
      },
      "execution_count": 172,
      "outputs": [
        {
          "output_type": "stream",
          "name": "stdout",
          "text": [
            "찾으시는 인덱스가 없습니다.\n"
          ]
        }
      ]
    },
    {
      "cell_type": "code",
      "source": [
        "print(4/0)"
      ],
      "metadata": {
        "colab": {
          "base_uri": "https://localhost:8080/",
          "height": 172
        },
        "id": "hke3pXoL0if0",
        "outputId": "2c6fabfe-8685-4d6c-e6e4-f9db943a81bb"
      },
      "execution_count": 173,
      "outputs": [
        {
          "output_type": "error",
          "ename": "ZeroDivisionError",
          "evalue": "ignored",
          "traceback": [
            "\u001b[0;31m---------------------------------------------------------------------------\u001b[0m",
            "\u001b[0;31mZeroDivisionError\u001b[0m                         Traceback (most recent call last)",
            "\u001b[0;32m<ipython-input-173-4bf1a7e4a751>\u001b[0m in \u001b[0;36m<module>\u001b[0;34m\u001b[0m\n\u001b[0;32m----> 1\u001b[0;31m \u001b[0mprint\u001b[0m\u001b[0;34m(\u001b[0m\u001b[0;36m4\u001b[0m\u001b[0;34m/\u001b[0m\u001b[0;36m0\u001b[0m\u001b[0;34m)\u001b[0m\u001b[0;34m\u001b[0m\u001b[0;34m\u001b[0m\u001b[0m\n\u001b[0m",
            "\u001b[0;31mZeroDivisionError\u001b[0m: division by zero"
          ]
        }
      ]
    },
    {
      "cell_type": "code",
      "source": [
        "# 여러 예외 처리\n",
        "\n",
        "try:\n",
        "    a=[1,2]\n",
        "    print(a[2])  # 위에서부터 순서대로 에러가 터지는 순간 다음건 실행도 안해봄..\n",
        "    print(4/2)\n",
        "except ZeroDivisionError as e:\n",
        "    print(e)    \n",
        "except IndexError as e:\n",
        "    print(e)   "
      ],
      "metadata": {
        "colab": {
          "base_uri": "https://localhost:8080/"
        },
        "id": "lVsv_1CZ0wIk",
        "outputId": "14355892-df30-4d77-80ee-0e3c20098e25"
      },
      "execution_count": 174,
      "outputs": [
        {
          "output_type": "stream",
          "name": "stdout",
          "text": [
            "list index out of range\n"
          ]
        }
      ]
    },
    {
      "cell_type": "code",
      "source": [
        "# 여러 예외 처리\n",
        "\n",
        "try:\n",
        "    a=[1,2]\n",
        "    print(a[2])  # 위에서부터 순서대로 에러가 터지는 순간 다음건 실행도 안해봄..\n",
        "    print(4/2)\n",
        "except (ZeroDivisionError,IndexError) as e:\n",
        "    print(e)    "
      ],
      "metadata": {
        "colab": {
          "base_uri": "https://localhost:8080/"
        },
        "id": "H1fPZgkF1Hck",
        "outputId": "640b1ef6-683e-4101-b444-cd9378948b17"
      },
      "execution_count": 175,
      "outputs": [
        {
          "output_type": "stream",
          "name": "stdout",
          "text": [
            "list index out of range\n"
          ]
        }
      ]
    },
    {
      "cell_type": "code",
      "source": [
        "try:\n",
        "    4/2\n",
        "\n",
        "except:\n",
        "    print(\"exception !!!\")  # 에러 발생시 출력\n",
        "else:\n",
        "    print(\"no problem\")    # 에러 발생 안하면 출력\n",
        "finally:\n",
        "    print(\"programming end\")   # 에러 발생 하든 안하든 출력, 언제나 항상 마지막에 실행되는 구문"
      ],
      "metadata": {
        "colab": {
          "base_uri": "https://localhost:8080/"
        },
        "id": "pdwM1gQT1SPF",
        "outputId": "524954bb-78ce-4006-c528-66167ec68ebb"
      },
      "execution_count": 178,
      "outputs": [
        {
          "output_type": "stream",
          "name": "stdout",
          "text": [
            "no problem\n",
            "programming end\n"
          ]
        }
      ]
    },
    {
      "cell_type": "code",
      "source": [
        "# 예외 회피\n",
        "try:\n",
        "    4/0\n",
        "except:\n",
        "    pass    "
      ],
      "metadata": {
        "id": "wJ2fFkH52oyF"
      },
      "execution_count": 179,
      "outputs": []
    },
    {
      "cell_type": "code",
      "source": [
        "# 예외 상황이 아님에도 불구하고 강제로 예외 상황 만들기\n",
        "\n",
        "class Bird:\n",
        "     def fly(self):\n",
        "         raise NotImplementedError\n",
        "\n",
        "bird=Bird()\n",
        "bird.fly()         "
      ],
      "metadata": {
        "colab": {
          "base_uri": "https://localhost:8080/",
          "height": 336
        },
        "id": "Z5vvk0wa3QFq",
        "outputId": "388ba62e-eac6-47fb-aac8-eeb570ccf0c8"
      },
      "execution_count": 180,
      "outputs": [
        {
          "output_type": "error",
          "ename": "NotImplementedError",
          "evalue": "ignored",
          "traceback": [
            "\u001b[0;31m---------------------------------------------------------------------------\u001b[0m",
            "\u001b[0;31mNotImplementedError\u001b[0m                       Traceback (most recent call last)",
            "\u001b[0;32m<ipython-input-180-9dde052e3e92>\u001b[0m in \u001b[0;36m<module>\u001b[0;34m\u001b[0m\n\u001b[1;32m      6\u001b[0m \u001b[0;34m\u001b[0m\u001b[0m\n\u001b[1;32m      7\u001b[0m \u001b[0mbird\u001b[0m\u001b[0;34m=\u001b[0m\u001b[0mBird\u001b[0m\u001b[0;34m(\u001b[0m\u001b[0;34m)\u001b[0m\u001b[0;34m\u001b[0m\u001b[0;34m\u001b[0m\u001b[0m\n\u001b[0;32m----> 8\u001b[0;31m \u001b[0mbird\u001b[0m\u001b[0;34m.\u001b[0m\u001b[0mfly\u001b[0m\u001b[0;34m(\u001b[0m\u001b[0;34m)\u001b[0m\u001b[0;34m\u001b[0m\u001b[0;34m\u001b[0m\u001b[0m\n\u001b[0m",
            "\u001b[0;32m<ipython-input-180-9dde052e3e92>\u001b[0m in \u001b[0;36mfly\u001b[0;34m(self)\u001b[0m\n\u001b[1;32m      3\u001b[0m \u001b[0;32mclass\u001b[0m \u001b[0mBird\u001b[0m\u001b[0;34m:\u001b[0m\u001b[0;34m\u001b[0m\u001b[0;34m\u001b[0m\u001b[0m\n\u001b[1;32m      4\u001b[0m      \u001b[0;32mdef\u001b[0m \u001b[0mfly\u001b[0m\u001b[0;34m(\u001b[0m\u001b[0mself\u001b[0m\u001b[0;34m)\u001b[0m\u001b[0;34m:\u001b[0m\u001b[0;34m\u001b[0m\u001b[0;34m\u001b[0m\u001b[0m\n\u001b[0;32m----> 5\u001b[0;31m          \u001b[0;32mraise\u001b[0m \u001b[0mNotImplementedError\u001b[0m\u001b[0;34m\u001b[0m\u001b[0;34m\u001b[0m\u001b[0m\n\u001b[0m\u001b[1;32m      6\u001b[0m \u001b[0;34m\u001b[0m\u001b[0m\n\u001b[1;32m      7\u001b[0m \u001b[0mbird\u001b[0m\u001b[0;34m=\u001b[0m\u001b[0mBird\u001b[0m\u001b[0;34m(\u001b[0m\u001b[0;34m)\u001b[0m\u001b[0;34m\u001b[0m\u001b[0;34m\u001b[0m\u001b[0m\n",
            "\u001b[0;31mNotImplementedError\u001b[0m: "
          ]
        }
      ]
    },
    {
      "cell_type": "code",
      "source": [
        "class Calculator:\n",
        "   def __int__(self):\n",
        "       self.value=0\n",
        "\n",
        "   def add(self,val):\n",
        "       self.value+=val \n",
        "\n",
        "class UpgradeCalculator(Calulator): # 위 기능들이 그대로 내려온다.\n",
        "  def minus(self, val):\n",
        "      self.value-=val\n",
        "\n",
        "cal=UpgradeCalculator()\n",
        "cal.add(10)\n",
        "cal.minus(7)\n",
        "\n",
        "print(cal.value)"
      ],
      "metadata": {
        "colab": {
          "base_uri": "https://localhost:8080/",
          "height": 245
        },
        "id": "qM0R7jya4G8M",
        "outputId": "6c8accbe-30e3-4e97-b893-ce60c327d136"
      },
      "execution_count": 186,
      "outputs": [
        {
          "output_type": "error",
          "ename": "NameError",
          "evalue": "ignored",
          "traceback": [
            "\u001b[0;31m---------------------------------------------------------------------------\u001b[0m",
            "\u001b[0;31mNameError\u001b[0m                                 Traceback (most recent call last)",
            "\u001b[0;32m<ipython-input-186-dbf6dc3f29ca>\u001b[0m in \u001b[0;36m<module>\u001b[0;34m\u001b[0m\n\u001b[1;32m      6\u001b[0m        \u001b[0mself\u001b[0m\u001b[0;34m.\u001b[0m\u001b[0mvalue\u001b[0m\u001b[0;34m+=\u001b[0m\u001b[0mval\u001b[0m\u001b[0;34m\u001b[0m\u001b[0;34m\u001b[0m\u001b[0m\n\u001b[1;32m      7\u001b[0m \u001b[0;34m\u001b[0m\u001b[0m\n\u001b[0;32m----> 8\u001b[0;31m \u001b[0;32mclass\u001b[0m \u001b[0mUpgradeCalculator\u001b[0m\u001b[0;34m(\u001b[0m\u001b[0mCalulator\u001b[0m\u001b[0;34m)\u001b[0m\u001b[0;34m:\u001b[0m \u001b[0;31m# 위 기능들이 그대로 내려온다.\u001b[0m\u001b[0;34m\u001b[0m\u001b[0;34m\u001b[0m\u001b[0m\n\u001b[0m\u001b[1;32m      9\u001b[0m   \u001b[0;32mdef\u001b[0m \u001b[0mminus\u001b[0m\u001b[0;34m(\u001b[0m\u001b[0mself\u001b[0m\u001b[0;34m,\u001b[0m \u001b[0mval\u001b[0m\u001b[0;34m)\u001b[0m\u001b[0;34m:\u001b[0m\u001b[0;34m\u001b[0m\u001b[0;34m\u001b[0m\u001b[0m\n\u001b[1;32m     10\u001b[0m       \u001b[0mself\u001b[0m\u001b[0;34m.\u001b[0m\u001b[0mvalue\u001b[0m\u001b[0;34m-=\u001b[0m\u001b[0mval\u001b[0m\u001b[0;34m\u001b[0m\u001b[0;34m\u001b[0m\u001b[0m\n",
            "\u001b[0;31mNameError\u001b[0m: name 'Calulator' is not defined"
          ]
        }
      ]
    },
    {
      "cell_type": "code",
      "source": [
        "class Calculator:\n",
        "   def __int__(self):\n",
        "       self.value=0\n",
        "\n",
        "   def add(self,val):\n",
        "       self.value+=val \n",
        "\n",
        "class MaxLimitCalculator(Calculator):\n",
        "   def add(self,val):\n",
        "     self.val+=val \n",
        "      if val>100\n",
        "         self.val=100\n",
        "\n",
        "cal=MaxLimitCalculator()\n",
        "cal.add(50)\n",
        "cal.add(60)\n",
        "\n",
        "print(cal.value)"
      ],
      "metadata": {
        "colab": {
          "base_uri": "https://localhost:8080/",
          "height": 136
        },
        "id": "ofrcZtXp6iL9",
        "outputId": "eb0a9a32-ee70-45b7-cbf6-4eedc539b3fc"
      },
      "execution_count": 191,
      "outputs": [
        {
          "output_type": "error",
          "ename": "IndentationError",
          "evalue": "ignored",
          "traceback": [
            "\u001b[0;36m  File \u001b[0;32m\"<ipython-input-191-bcc72787e59e>\"\u001b[0;36m, line \u001b[0;32m11\u001b[0m\n\u001b[0;31m    if val>100\u001b[0m\n\u001b[0m    ^\u001b[0m\n\u001b[0;31mIndentationError\u001b[0m\u001b[0;31m:\u001b[0m unexpected indent\n"
          ]
        }
      ]
    }
  ]
}