{
  "nbformat": 4,
  "nbformat_minor": 0,
  "metadata": {
    "colab": {
      "provenance": [],
      "authorship_tag": "ABX9TyOH1rj0T5c1YXSQfvg4KCdn",
      "include_colab_link": true
    },
    "kernelspec": {
      "name": "python3",
      "display_name": "Python 3"
    },
    "language_info": {
      "name": "python"
    }
  },
  "cells": [
    {
      "cell_type": "markdown",
      "metadata": {
        "id": "view-in-github",
        "colab_type": "text"
      },
      "source": [
        "<a href=\"https://colab.research.google.com/github/yearim2/pythonclass/blob/main/Homework_3.ipynb\" target=\"_parent\"><img src=\"https://colab.research.google.com/assets/colab-badge.svg\" alt=\"Open In Colab\"/></a>"
      ]
    },
    {
      "cell_type": "code",
      "execution_count": null,
      "metadata": {
        "colab": {
          "base_uri": "https://localhost:8080/"
        },
        "id": "YCaDUGzcKcex",
        "outputId": "c9a3719e-9f63-469c-b790-0e98a00ca892"
      },
      "outputs": [
        {
          "output_type": "stream",
          "name": "stdout",
          "text": [
            "['닥터 스트레인지', '스플릿', '럭키']\n"
          ]
        }
      ],
      "source": [
        "# 051\n",
        "movie_rank=['닥터 스트레인지','스플릿','럭키']\n",
        "print(movie_rank)"
      ]
    },
    {
      "cell_type": "code",
      "source": [
        "# 052\n",
        "movie_rank=['닥터 스트레인지','스플릿','럭키']\n",
        "movie_rank.append('배트맨')\n",
        "print(movie_rank)"
      ],
      "metadata": {
        "colab": {
          "base_uri": "https://localhost:8080/"
        },
        "id": "aAlg4eezLI2i",
        "outputId": "4c83c311-d11d-442b-f55b-e31a3e2e25ed"
      },
      "execution_count": null,
      "outputs": [
        {
          "output_type": "stream",
          "name": "stdout",
          "text": [
            "['닥터 스트레인지', '스플릿', '럭키', '배트맨']\n"
          ]
        }
      ]
    },
    {
      "cell_type": "code",
      "source": [
        "# 053\n",
        "movie_rank = ['닥터 스트레인지', '스플릿', '럭키', '배트맨']\n",
        "movie_rank.insert(1,'슈퍼맨')\n",
        "print(movie_rank)"
      ],
      "metadata": {
        "colab": {
          "base_uri": "https://localhost:8080/"
        },
        "id": "92TTcALcMO98",
        "outputId": "7846f9fb-13ef-46b3-ca2c-fa440b361d21"
      },
      "execution_count": null,
      "outputs": [
        {
          "output_type": "stream",
          "name": "stdout",
          "text": [
            "['닥터 스트레인지', '슈퍼맨', '스플릿', '럭키', '배트맨']\n"
          ]
        }
      ]
    },
    {
      "cell_type": "code",
      "source": [
        "# 054\n",
        "movie_rank = ['닥터 스트레인지', '슈퍼맨', '스플릿', '럭키', '배트맨']\n",
        "movie_rank.remove('럭키')\n",
        "print(movie_rank)"
      ],
      "metadata": {
        "colab": {
          "base_uri": "https://localhost:8080/"
        },
        "id": "zsU3iGYrMxbI",
        "outputId": "b3c3836b-72a6-444f-aca5-abfd7e3b8689"
      },
      "execution_count": null,
      "outputs": [
        {
          "output_type": "stream",
          "name": "stdout",
          "text": [
            "['닥터 스트레인지', '슈퍼맨', '스플릿', '배트맨']\n"
          ]
        }
      ]
    },
    {
      "cell_type": "code",
      "source": [
        "# 055\n",
        "movie_rank = ['닥터 스트레인지', '슈퍼맨', '스플릿', '배트맨']\n",
        "movie_rank.pop()\n",
        "movie_rank.pop()\n",
        "print(movie_rank)"
      ],
      "metadata": {
        "colab": {
          "base_uri": "https://localhost:8080/"
        },
        "id": "hpgoksboNCkA",
        "outputId": "652640ba-0f1b-4316-83bd-1e876734827a"
      },
      "execution_count": null,
      "outputs": [
        {
          "output_type": "stream",
          "name": "stdout",
          "text": [
            "['닥터 스트레인지', '슈퍼맨']\n"
          ]
        }
      ]
    },
    {
      "cell_type": "code",
      "source": [
        "# 056\n",
        "lang1 = [\"C\", \"C++\", \"JAVA\"]\n",
        "lang2 = [\"Python\", \"Go\", \"C#\"]\n",
        "langs=lang1+lang2\n",
        "print(langs)"
      ],
      "metadata": {
        "colab": {
          "base_uri": "https://localhost:8080/"
        },
        "id": "kORbdeRHNb0p",
        "outputId": "c79063f7-574f-4a6b-dff3-60691b8104e0"
      },
      "execution_count": null,
      "outputs": [
        {
          "output_type": "stream",
          "name": "stdout",
          "text": [
            "['C', 'C++', 'JAVA', 'Python', 'Go', 'C#']\n"
          ]
        }
      ]
    },
    {
      "cell_type": "code",
      "source": [
        "# 057\n",
        "nums = [1, 2, 3, 4, 5, 6, 7]"
      ],
      "metadata": {
        "id": "TMV1_Nl9Nzf4"
      },
      "execution_count": null,
      "outputs": []
    },
    {
      "cell_type": "code",
      "source": [
        "# 058"
      ],
      "metadata": {
        "id": "i7YJmLQfOXUg"
      },
      "execution_count": null,
      "outputs": []
    },
    {
      "cell_type": "code",
      "source": [
        "# 059\n",
        "cook = [\"피자\", \"김밥\", \"만두\", \"양념치킨\", \"족발\", \"피자\", \"김치만두\", \"쫄면\", \"소시지\", \"라면\", \"팥빙수\", \"김치전\"]\n",
        "print(len(cook))"
      ],
      "metadata": {
        "colab": {
          "base_uri": "https://localhost:8080/"
        },
        "id": "hPrGeKxcOYcx",
        "outputId": "be61a0cc-4610-43bb-9ce1-4d9201d40f28"
      },
      "execution_count": null,
      "outputs": [
        {
          "output_type": "stream",
          "name": "stdout",
          "text": [
            "12\n"
          ]
        }
      ]
    },
    {
      "cell_type": "code",
      "source": [
        "# 060\n",
        "nums = [1, 2, 3, 4, 5]\n",
        "print((nums[0]+nums[1]+nums[2]+nums[3]+nums[4])/5)"
      ],
      "metadata": {
        "colab": {
          "base_uri": "https://localhost:8080/"
        },
        "id": "AA1GRiQEOZfS",
        "outputId": "e707f0fe-d2ce-44c0-9ecb-1994beb43326"
      },
      "execution_count": null,
      "outputs": [
        {
          "output_type": "stream",
          "name": "stdout",
          "text": [
            "3.0\n"
          ]
        }
      ]
    },
    {
      "cell_type": "code",
      "source": [
        "# 061\n",
        "price = ['20180728', 100, 130, 140, 150, 160, 170]\n",
        "price.remove('20180728', )\n",
        "print(price)"
      ],
      "metadata": {
        "colab": {
          "base_uri": "https://localhost:8080/"
        },
        "id": "Ss-babrjOdAA",
        "outputId": "c7c7c051-ec7e-48c7-a501-9865af235c79"
      },
      "execution_count": null,
      "outputs": [
        {
          "output_type": "stream",
          "name": "stdout",
          "text": [
            "[100, 130, 140, 150, 160, 170]\n"
          ]
        }
      ]
    },
    {
      "cell_type": "code",
      "source": [
        "# 062\n",
        "\n"
      ],
      "metadata": {
        "id": "RTj4RLMiOeNA"
      },
      "execution_count": null,
      "outputs": []
    },
    {
      "cell_type": "code",
      "source": [
        "# 063"
      ],
      "metadata": {
        "id": "Y2SAuffnOfoY"
      },
      "execution_count": null,
      "outputs": []
    },
    {
      "cell_type": "code",
      "source": [
        "# 064\n",
        "nums = [1, 2, 3, 4, 5]\n",
        "nums.reverse()\n",
        "print(nums)"
      ],
      "metadata": {
        "colab": {
          "base_uri": "https://localhost:8080/"
        },
        "id": "FqFLYgjnOgtb",
        "outputId": "67bc6cff-55f4-477b-824b-9875d07ff80e"
      },
      "execution_count": null,
      "outputs": [
        {
          "output_type": "stream",
          "name": "stdout",
          "text": [
            "[5, 4, 3, 2, 1]\n"
          ]
        }
      ]
    },
    {
      "cell_type": "code",
      "source": [
        "# 065\n",
        "interest = ['삼성전자', 'LG전자', 'Naver']\n",
        "print(interest[0],interest[2])"
      ],
      "metadata": {
        "colab": {
          "base_uri": "https://localhost:8080/"
        },
        "id": "TViOiYFfOiAg",
        "outputId": "c6aae411-52bc-4289-b3b6-d7feb43f80f4"
      },
      "execution_count": null,
      "outputs": [
        {
          "output_type": "stream",
          "name": "stdout",
          "text": [
            "삼성전자 Naver\n"
          ]
        }
      ]
    },
    {
      "cell_type": "code",
      "source": [
        "# 066\n",
        "interest = ['삼성전자', 'LG전자', 'Naver', 'SK하이닉스', '미래에셋대우']\n",
        "print(interest)"
      ],
      "metadata": {
        "colab": {
          "base_uri": "https://localhost:8080/"
        },
        "id": "GIyEtetoOjWI",
        "outputId": "6171f323-890b-4ede-8cef-0cf6176cb624"
      },
      "execution_count": null,
      "outputs": [
        {
          "output_type": "stream",
          "name": "stdout",
          "text": [
            "['삼성전자', 'LG전자', 'Naver', 'SK하이닉스', '미래에셋대우']\n"
          ]
        }
      ]
    },
    {
      "cell_type": "code",
      "source": [
        "# 067"
      ],
      "metadata": {
        "id": "6Gkp1UXfOkLw"
      },
      "execution_count": null,
      "outputs": []
    },
    {
      "cell_type": "code",
      "source": [
        "# 068"
      ],
      "metadata": {
        "id": "34b3yY_IOlOg"
      },
      "execution_count": null,
      "outputs": []
    },
    {
      "cell_type": "code",
      "source": [
        "# 069\n",
        "string = \"삼성전자/LG전자/Naver\"\n",
        "interst=string.split(\"/\")\n",
        "print(interest)"
      ],
      "metadata": {
        "colab": {
          "base_uri": "https://localhost:8080/"
        },
        "id": "abqYNyhpOmr4",
        "outputId": "1c6ffd05-7185-42da-ffc0-a8e8819a124a"
      },
      "execution_count": null,
      "outputs": [
        {
          "output_type": "stream",
          "name": "stdout",
          "text": [
            "['삼성전자', 'LG전자', 'Naver', 'SK하이닉스', '미래에셋대우']\n"
          ]
        }
      ]
    },
    {
      "cell_type": "code",
      "source": [
        "# 070\n",
        "data = [2, 4, 3, 1, 5, 10, 9]\n",
        "data.sort()\n",
        "print(data)"
      ],
      "metadata": {
        "colab": {
          "base_uri": "https://localhost:8080/"
        },
        "id": "ysabWV-WOn2R",
        "outputId": "d050bf94-7028-4c78-b36c-9a3d82d49ad1"
      },
      "execution_count": null,
      "outputs": [
        {
          "output_type": "stream",
          "name": "stdout",
          "text": [
            "[1, 2, 3, 4, 5, 9, 10]\n"
          ]
        }
      ]
    }
  ]
}